{
 "cells": [
  {
   "cell_type": "code",
   "execution_count": null,
   "metadata": {},
   "outputs": [],
   "source": [
    "import numpy as np\n",
    "import math\n",
    "import random\n",
    "from sklearn.linear_model import LogisticRegression\n",
    "from sklearn.model_selection import train_test_split\n",
    "import matplotlib.pyplot as plt\n",
    "from sklearn.metrics import accuracy_score"
   ]
  },
  {
   "cell_type": "markdown",
   "metadata": {},
   "source": [
    "# Part I\n",
    "### Forward Simulation and Logistic Regression"
   ]
  },
  {
   "cell_type": "markdown",
   "metadata": {},
   "source": [
    "**FORWARD SIMULATION**"
   ]
  },
  {
   "cell_type": "code",
   "execution_count": null,
   "metadata": {},
   "outputs": [],
   "source": [
    "alpha=0.9 # Probability parameter alpha in (0.5, 1) for P(Z|C)\n",
    "beta=0.2  # Transition probability parameter for moving to and from parallel processing\n",
    "gamma=0.1  # Transition probability parameter between states\n",
    "lmda=(1, 5)  # Rate parameters for the Poisson distribution modeling spike counts under each attention state.\n",
    "\n",
    "# Transition probability matrix for the HMM, parameterized by gamma and beta (Transition probabilities of switching between states C in {0, 1, 2}).\n",
    "Gamma = np.array([[1-gamma, 0, gamma], [0, 1-gamma, gamma], [beta*0.5, beta*0.5, 1-beta]])\n",
    "Z_prob = [[alpha, 1-alpha], [1-alpha, alpha], [0.5, 0.5]]\n",
    "\n",
    "def forward_sim(n, T, alpha=0.9, gamma=0.1, beta=0.2, lmda=(1, 5)): \n",
    "    # Pre-defined (transition) probabilities\n",
    "    Gamma = [[1-gamma, 0, gamma], [0, 1-gamma, gamma], [beta*0.5, beta*0.5, 1-beta]]\n",
    "    \n",
    "    # Initialize arrays\n",
    "    C = np.zeros(T, dtype=int)\n",
    "    Z = np.zeros((T, n), dtype=int)\n",
    "    X = np.zeros((T, n), dtype=int)\n",
    "\n",
    "    # Simulate the proces for the remaining t=1 to t=T timesteps\n",
    "    for t in range(1, T):\n",
    "        C[t] = random.choices([0, 1, 2], Gamma[C[2] if t == 0 else C[t-1]])[0] # First state is 0, every other picked random via the Gamma transition matrix\n",
    "        for i in range(0, n):\n",
    "            Z[t, i] = random.choices([0, 1], Z_prob[C[t]])[0] # Simulated hidden variables Z drawn from the distribution P(Z|C)\n",
    "            X[t, i] = np.random.poisson(lam = lmda[Z[t, i]]) # Simulated observed variables drawn at random from the poisson distribution.\n",
    "\n",
    "    return C, Z, X"
   ]
  },
  {
   "cell_type": "code",
   "execution_count": null,
   "metadata": {},
   "outputs": [],
   "source": [
    "### Simulate Data for T timesteps and n neurons ###\n",
    "T = 100  # Time period\n",
    "n = 10   # Number of neurons\n",
    "\n",
    "# the C_0 vector which would correspond to C[-1], but is redundant for the purposes of the C array, \n",
    "# which corresponds to a C for every T. In reality we have T+1 C variables and T x N Z and X variables.\n",
    "C_initial = np.array([0, 0, 1]) \n",
    "C, Z, X = forward_sim(n, T) # Simulated arrays for C, Z, X\n"
   ]
  },
  {
   "cell_type": "markdown",
   "metadata": {},
   "source": [
    "**VISUALIZATION**"
   ]
  },
  {
   "cell_type": "code",
   "execution_count": null,
   "metadata": {},
   "outputs": [],
   "source": [
    "\n",
    "#mean Z pr tid\n",
    "avg_Z = np.mean(Z,axis=1).reshape(1,-1)[0]\n",
    "avg_X = np.mean(X,axis=1).reshape(1,-1)[0]\n",
    "\n",
    "# Visualize the data\n",
    "plt.figure(figsize=(16, 8))\n",
    "\n",
    "# Plot hidden states (C)\n",
    "plt.subplot(3, 1, 1)\n",
    "plt.plot(range(T), C, marker='o', color='blue')\n",
    "plt.title('Hidden States (C)', fontsize = 18)\n",
    "plt.xlabel('Time Step', fontsize = 16)\n",
    "plt.ylabel('State', fontsize = 16)\n",
    "plt.grid(True)\n",
    "\n",
    "# Plot observed states (Z)\n",
    "plt.subplot(3, 1, 2)\n",
    "for i in range(n):\n",
    "    plt.plot(range(T), Z[:, i], marker='o', alpha=1.5/n, color = 'red', linewidth = 0)\n",
    "plt.plot(range(T), avg_Z, color='green', label = 'Mean State')\n",
    "plt.title('Hidden States (Z)', fontsize = 18)\n",
    "plt.xlabel('Time Step', fontsize = 16)\n",
    "plt.ylabel('State', fontsize = 16)\n",
    "plt.legend(fontsize = 16)\n",
    "plt.grid(True)\n",
    "\n",
    "# Plot observed states (X)\n",
    "plt.subplot(3, 1, 3)\n",
    "plt.plot(range(T), avg_X, color='red', label = 'Mean Spike Count')\n",
    "plt.title('Mean Observed (X)', fontsize = 18)\n",
    "plt.xlabel('Time Step', fontsize = 16)\n",
    "plt.ylabel('Spike Count', fontsize = 16)\n",
    "plt.legend(fontsize = 16)\n",
    "plt.grid(True)\n",
    "\n",
    "plt.tight_layout()\n",
    "plt.show()"
   ]
  },
  {
   "cell_type": "markdown",
   "metadata": {},
   "source": [
    "### MULTICLASS LOGISTIC REGRESSION "
   ]
  },
  {
   "cell_type": "code",
   "execution_count": null,
   "metadata": {},
   "outputs": [],
   "source": [
    "# Split the date for validation\n",
    "X_train, X_test, C_train, C_test = train_test_split(X, C, test_size=0.2, random_state=42)\n",
    "\n",
    "# Assert shapes\n",
    "assert(X_train.shape == (T-0.2*T, n))\n",
    "assert(X_test.shape == (0.2*T, n))\n",
    "assert(C_train.shape == (T-0.2*T, ))\n",
    "assert(C_test.shape == (0.2*T, ))"
   ]
  },
  {
   "cell_type": "code",
   "execution_count": null,
   "metadata": {},
   "outputs": [],
   "source": [
    "# Train multinomial logistic regression using Scikit-Learn\n",
    "LogReg = LogisticRegression(random_state=42, multi_class='multinomial')\n",
    "\n",
    "LogReg.fit(X_train, C_train)\n",
    "LogReg.score(X_test, C_test)"
   ]
  },
  {
   "cell_type": "code",
   "execution_count": null,
   "metadata": {},
   "outputs": [],
   "source": [
    "# Predict_proba essentially returns the CPD for P(C|X)\n",
    "LogReg.predict_proba(X)"
   ]
  },
  {
   "cell_type": "markdown",
   "metadata": {},
   "source": [
    "# Part II\n",
    "### Inference algorithms, Testing Inference on Simulated Data"
   ]
  },
  {
   "cell_type": "markdown",
   "metadata": {},
   "source": [
    "**INFERENCE OF Z**"
   ]
  },
  {
   "cell_type": "code",
   "execution_count": null,
   "metadata": {},
   "outputs": [],
   "source": [
    "def PX_given_Z(x, z, lmda=(1, 5)):\n",
    "    return (np.exp(-1 * lmda[z]) * ((lmda[z]**x)/math.factorial(x)))\n",
    "\n",
    "# Returns the answer to the query P(X=x|Z=z)"
   ]
  },
  {
   "cell_type": "code",
   "execution_count": null,
   "metadata": {},
   "outputs": [],
   "source": [
    "T = 100  # Time period\n",
    "n = 10   # Number of neurons\n",
    "\n",
    "\n",
    "C, Z, X = forward_sim(n, T)"
   ]
  },
  {
   "cell_type": "code",
   "execution_count": null,
   "metadata": {},
   "outputs": [],
   "source": [
    "#We assume that P(Z=0) = 0.5 due to the distribution of Z | C, and due to an assumption that P(C=1) = P(C=0)\n",
    "def Z_marg():\n",
    "    return (0.5, 0.5)\n",
    "\n",
    "def X_marg(X):\n",
    "    #We start by calculating P(X) for every observed X and save them in a table. It doesn't make sense to compute P(X) for unobserved values of X\n",
    "    x_marg = np.zeros(np.max(X)+1)\n",
    "    z_marg = Z_marg()\n",
    "    #We calculate P(X) using the formula: P(X=x) = P(X=x|Z=0)P(Z=0) + P(X=x|Z=1)P(Z=1)\n",
    "    #This works because Z ony takes values in {0,1}. We simply obtain the joint distribution P(X,Z) and sum out Z\n",
    "    for i in range(len(x_marg)):\n",
    "        x_marg[i] = PX_given_Z(i, 0)*z_marg[0] + PX_given_Z(i, 1)*z_marg[1]\n",
    "    return x_marg\n",
    "\n",
    "    #X_marg[i] holds the answer for the query P(X=i)\n",
    "#Likewise Z_marg[i] holds the answer for the query p(Z=i)\n",
    "    "
   ]
  },
  {
   "cell_type": "code",
   "execution_count": null,
   "metadata": {},
   "outputs": [],
   "source": [
    "def infer_Z(X):\n",
    "    Z_inferred = np.zeros((X.shape[0],X.shape[1],2), dtype=float) \n",
    "    #For every observed X=x, we calculate the conditional probaility P(Z=0|X=x)\n",
    "        #We use Bayes theorem to do this. \n",
    "    x_marg = X_marg(X)\n",
    "    z_marg = Z_marg()\n",
    "    for i in range(Z_inferred.shape[0]): \n",
    "        for j in range(Z_inferred.shape[1]): \n",
    "            Z_inferred[i,j,0] = (PX_given_Z(X[i,j], 0)*z_marg[0])/(x_marg[X[i,j]])\n",
    "            Z_inferred[i,j,1] = 1 - Z_inferred[i,j,0] \n",
    "    return Z_inferred"
   ]
  },
  {
   "cell_type": "code",
   "execution_count": null,
   "metadata": {},
   "outputs": [],
   "source": [
    "def PZ_given_C(c, z, alpha=0.9):\n",
    "    Z_prob = np.array([[alpha, 1-alpha], [1-alpha, alpha], [0.5, 0.5]])\n",
    "    return Z_prob[c, z]"
   ]
  },
  {
   "cell_type": "markdown",
   "metadata": {},
   "source": [
    "### Forward Algorithm"
   ]
  },
  {
   "cell_type": "code",
   "execution_count": null,
   "metadata": {},
   "outputs": [],
   "source": [
    "def calc_emission_proba(t: int, c: int, X) -> float:\n",
    "    \"\"\"\n",
    "    Calculates the emission probabilities at timestep t\n",
    "    The probabilities given by P(X_1,t...X_n,t|C_t)\n",
    "    P(Z|C) by function PZ_given_C(c, z)\n",
    "    P(X|Z) Poisson distribution given by PX_given_Z(x, z)\n",
    "    \"\"\"\n",
    "    emission_proba = 0.\n",
    "    for i in range(n):\n",
    "        emission_proba += np.log(PZ_given_C(c, 0)*PX_given_Z(X[t, i], 0) + PZ_given_C(c, 1)*PX_given_Z(X[t, i], 1))\n",
    "    emission_proba = np.exp(emission_proba)\n",
    "    return emission_proba"
   ]
  },
  {
   "cell_type": "code",
   "execution_count": null,
   "metadata": {},
   "outputs": [],
   "source": [
    "def forward(X):\n",
    "    \"\"\"\n",
    "    Iteratively updates the Alpha_t vectors in the Alpha matrix.\n",
    "    The Alpha matrix represents the P(C|X) distribution for each timestep T as an T x 3 matrix.\n",
    "    \"\"\"\n",
    "    # Initialization of the forward probabilities matrix, Alpha.\n",
    "    T = X.shape[0]\n",
    "    Alpha = np.zeros((T, 3), dtype=float)  # T x 3 matrix P(C|X)\n",
    "    Alpha[0, 2] = 1.  # Assumed state C_0=2 becomes our Alpha_0 vector (Alpha_0=[0, 0, 1])\n",
    "    for t in range(1, T):\n",
    "        for c in range(3):\n",
    "            c_prev = 0. # For calculating SUM_c_t-1 P(C_t|c_t-1)*Alpha_t-1(c_t-1)\n",
    "            for c_ in range(3):\n",
    "                c_prev += Gamma[c_, c]*Alpha[t-1, c_]\n",
    "            Alpha[t, c] = calc_emission_proba(t, c, X)*c_prev # Alpha_t = P(X_1,t,...,X_n,t|C_t) * SUM_c_t-1 P(C_t|c_t-1)*Alpha_t-1(c_t-1)\n",
    "        row_sum = np.sum(Alpha[t], axis=0) # Normalizing sum for each row\n",
    "        Alpha[t] = Alpha[t]/row_sum # Row-wise normalization for the CPD, normalizing the unnormalized Gibbs measure of each row.\n",
    "    return Alpha"
   ]
  },
  {
   "cell_type": "markdown",
   "metadata": {},
   "source": [
    "**CONFIDENCE AGAINST SIMULATED DATA**"
   ]
  },
  {
   "cell_type": "code",
   "execution_count": null,
   "metadata": {},
   "outputs": [],
   "source": [
    "def calc_confidence_of_C(infered_C, true_C):\n",
    "    Confidence = np.zeros(len(true_C), dtype = float)\n",
    "    for c in true_C: \n",
    "        for t in range(0, len(true_C)): \n",
    "            Confidence[t] = infered_C[t, true_C[t]]\n",
    "    return np.average(Confidence)\n",
    "print(calc_confidence_of_C(forward(X), C))"
   ]
  },
  {
   "cell_type": "code",
   "execution_count": null,
   "metadata": {},
   "outputs": [],
   "source": [
    "def calc_confidence_of_Z(inferred_Z, true_Z):\n",
    "    Confidence = np.zeros((true_Z.shape[0],true_Z.shape[1]), dtype = float)\n",
    "    for t in range(0,true_Z.shape[0]): \n",
    "        for n in range(0, true_Z.shape[1]): \n",
    "            Confidence[t,n] = inferred_Z[t,n,[true_Z[t,n]]]\n",
    "    return np.average(Confidence)\n",
    "print(calc_confidence_of_Z(infer_Z(X), Z))"
   ]
  },
  {
   "cell_type": "markdown",
   "metadata": {},
   "source": [
    "**PREDICTIONS AGAINST SIMULATED DATA**"
   ]
  },
  {
   "cell_type": "code",
   "execution_count": null,
   "metadata": {},
   "outputs": [],
   "source": [
    "def cement_data(inferd_Z, inferd_C):\n",
    "    T = inferd_Z.shape[0]\n",
    "    n = inferd_Z.shape[1]\n",
    "    Z = np.zeros((T,n),dtype=int)\n",
    "    C = np.zeros(T,dtype=int)\n",
    "    for t in range(T):\n",
    "        for i in range(n):\n",
    "            Z[t,i] = np.argmax(inferd_Z[t][i]) #giver det index hvor der er størst værdi i vores confidence matrix\n",
    "        C[t] = np.argmax(inferd_C[t])\n",
    "            \n",
    "    return Z, C\n"
   ]
  },
  {
   "cell_type": "code",
   "execution_count": null,
   "metadata": {},
   "outputs": [],
   "source": [
    "pred_z, pred_c = cement_data(infer_Z(X), forward(X))\n",
    "print(accuracy_score(pred_z.flatten(), Z.flatten()))\n",
    "print(accuracy_score(pred_c, C))\n"
   ]
  },
  {
   "cell_type": "markdown",
   "metadata": {},
   "source": [
    "**VISUALIZING CONFIDENCE**"
   ]
  },
  {
   "cell_type": "code",
   "execution_count": null,
   "metadata": {},
   "outputs": [],
   "source": [
    "n = 10\n",
    "T = 100\n",
    "C, Z, X = forward_sim(n, T)\n",
    "C_conf = forward(X)\n",
    "print(\"The average confidence of our inference of C, to the correct answer of C is \" + str(calc_confidence_of_C(C_conf, C)))\n",
    "plt.figure(figsize=(16, 4))\n",
    "# Plot hidden states (C)\n",
    "for i in range(3):  # Iterate over possible values 0, 1, 2\n",
    "    plt.scatter(range(T), [i+0.05] * T,  c='red', alpha=C_conf[:, i])\n",
    "plt.plot(range(T), C-0.05, marker='o', color='blue', zorder = 0)\n",
    "plt.title('Hidden States (C)')\n",
    "plt.xlabel('Time Step')\n",
    "plt.ylabel('State')\n",
    "plt.yticks([0, 1, 2])\n",
    "plt.grid(True, axis='y')  # Only grid lines on the y-axis\n"
   ]
  },
  {
   "cell_type": "markdown",
   "metadata": {},
   "source": [
    "**MAKE PREDICTIONS ON REAL DATA**"
   ]
  },
  {
   "cell_type": "code",
   "execution_count": null,
   "metadata": {},
   "outputs": [],
   "source": [
    "data_ = np.genfromtxt(\"proj_HMM/Ex_1.csv\", delimiter=\",\", skip_header=True, dtype=int)\n",
    "data = data_[:, 1:]\n"
   ]
  },
  {
   "cell_type": "code",
   "execution_count": null,
   "metadata": {},
   "outputs": [],
   "source": [
    "def switch_1_and_2(arr):\n",
    "    for i in range(len(arr)):\n",
    "        if arr[i] == 1:\n",
    "            arr[i] = 2\n",
    "        elif arr[i] == 2:\n",
    "            arr[i] = 1\n",
    "    return arr"
   ]
  },
  {
   "cell_type": "code",
   "execution_count": null,
   "metadata": {},
   "outputs": [],
   "source": [
    "data_files = [\"proj_HMM/Ex_1.csv\", \"proj_HMM/Ex_2.csv\", \"proj_HMM/Ex_3.csv\", \"proj_HMM/Ex_4.csv\", \"proj_HMM/Ex_5.csv\", \"proj_HMM/Ex_6.csv\", \"proj_HMM/Ex_7.csv\", \"proj_HMM/Ex_8.csv\", \"proj_HMM/Ex_9.csv\", \"proj_HMM/Ex_10.csv\"]\n",
    "\n",
    "# Create a figure and axis array to hold all subplots\n",
    "fig, axs = plt.subplots(10, 1, figsize=(16, 22), sharex=False)\n",
    "\n",
    "for i in range(10):\n",
    "    # Load data for the current iteration\n",
    "    data_ = np.genfromtxt(data_files[i % len(data_files)], delimiter=\",\", skip_header=True, dtype=int)\n",
    "    data = data_[:, 1:]\n",
    "    T = data.shape[0]  # Time period\n",
    "    n = data.shape[1]   # Number of neurons\n",
    "\n",
    "    # Assuming the rest of your plotting code remains the same\n",
    "    \n",
    "    Z, C = cement_data(infer_Z(data), forward(data))\n",
    "    C = switch_1_and_2(C)\n",
    "    avg_Z = np.mean(Z,axis=1).reshape(1,-1)[0]\n",
    "    avg_X = np.mean(data,axis=1).reshape(1,-1)[0]\n",
    "\n",
    "    ax1 = axs[i]\n",
    "    ax1.plot(range(1,T+1), avg_X, color=\"black\", zorder=3)\n",
    "    ax1.set_yticks([0,1,2, 3, 4, 5, 6, 7])\n",
    "    ax1.set_ylabel('Average observed X', color=\"black\",  fontsize=13)\n",
    "    ax1.tick_params(axis='y', labelcolor=\"black\")\n",
    "\n",
    "    ax2 = ax1.twinx()\n",
    "    ax2.plot(range(1,T+1), avg_Z, color=\"darkgreen\", zorder=2)\n",
    "    ax2.set_yticks([0,0.5,1])\n",
    "    ax2.set_ylabel('Average predicted Z', color=\"darkgreen\", fontsize=13)\n",
    "    ax2.tick_params(axis='y', labelcolor=\"darkgreen\")\n",
    "\n",
    "    ax3 = ax1.twinx()\n",
    "    ax3.spines['right'].set_position(('outward', 60))\n",
    "    ax3.set_ylabel('Predicted C', color=\"purple\", fontsize=13)\n",
    "    for c in range(len(C)):\n",
    "        if C[c] == 0:\n",
    "            color = \"darkred\"\n",
    "        elif C[c] == 1:\n",
    "            color = \"purple\"\n",
    "        else:\n",
    "            color = \"blue\"\n",
    "        ax3.plot(c, C[c], color=color, marker=\"o\", zorder=2)\n",
    "\n",
    "    for j in range(len(C) - 1):\n",
    "        if C[j] != C[j + 1]:\n",
    "            color = \"black\"\n",
    "            if C[j] == 0:\n",
    "                color = \"darkred\"\n",
    "            elif C[j] == 1:\n",
    "                color = \"purple\"\n",
    "            else:\n",
    "                color = \"blue\"\n",
    "            ax3.plot([j, j + 1], [C[j], C[j + 1]], color=color, zorder=1)\n",
    "        else: \n",
    "            if C[j] == 0:\n",
    "                color = \"darkred\"\n",
    "            elif C[j] == 1:\n",
    "                color = \"purple\"\n",
    "            else:\n",
    "                color = \"blue\"\n",
    "            ax3.plot([j, j + 1], [C[j], C[j + 1]], color=color, zorder=1)\n",
    "\n",
    "    ax3.tick_params(axis='y', labelcolor=\"purple\")\n",
    "    ax3.set_yticks([0,1,2])\n",
    "    ax3.set_yticklabels([\"Serial 0\", \"Parallel\", \"Serial 1\"], fontsize = 12)\n",
    "    tick_labels = ax3.get_yticklabels()\n",
    "    tick_labels[0].set_color('darkred')\n",
    "    tick_labels[1].set_color('purple')\n",
    "    tick_labels[2].set_color('blue')\n",
    "    plt.title('Experiment ' + str(i+1), fontsize = 14)\n",
    "    plt.grid(True)\n",
    "\n",
    "# Adjust layout to prevent overlap of labels\n",
    "plt.tight_layout()\n",
    "\n",
    "plt.show()\n"
   ]
  },
  {
   "cell_type": "code",
   "execution_count": null,
   "metadata": {},
   "outputs": [],
   "source": []
  }
 ],
 "metadata": {
  "kernelspec": {
   "display_name": "base",
   "language": "python",
   "name": "python3"
  },
  "language_info": {
   "codemirror_mode": {
    "name": "ipython",
    "version": 3
   },
   "file_extension": ".py",
   "mimetype": "text/x-python",
   "name": "python",
   "nbconvert_exporter": "python",
   "pygments_lexer": "ipython3",
   "version": "3.10.9"
  }
 },
 "nbformat": 4,
 "nbformat_minor": 2
}
