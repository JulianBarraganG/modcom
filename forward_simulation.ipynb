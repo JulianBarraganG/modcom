{
 "cells": [
  {
   "cell_type": "code",
   "execution_count": null,
   "metadata": {},
   "outputs": [],
   "source": [
    "import numpy as np\n",
    "import random"
   ]
  },
  {
   "cell_type": "markdown",
   "metadata": {},
   "source": [
    "**FORWARD SIMULATION**"
   ]
  },
  {
   "cell_type": "code",
   "execution_count": null,
   "metadata": {},
   "outputs": [],
   "source": [
    "def forward_sim(n,T, alpha=0.9, gamma=0.1, beta=0.2, lmda=(1, 5)): \n",
    "    Gamma = [[1-gamma, 0, gamma], [0, 1-gamma, gamma], [beta*0.5, beta*0.5, 1-beta]]\n",
    "    Z_prob = [[alpha, 1-alpha], [1-alpha, alpha], [0.5, 0.5]]\n",
    "    C = np.zeros(T,dtype=int)\n",
    "    Z = np.zeros((T,n), dtype=int)\n",
    "    X = np.zeros((T,n), dtype=int)\n",
    "    C[0] = 2\n",
    "    for i in range(0,n):\n",
    "            Z[0,i] = random.choices([0,1], Z_prob[C[0]], k = 1)[0]\n",
    "            X[0,i] = np.random.poisson(lam = lmda[Z[0,i]])\n",
    "\n",
    "    for t in range(1,T):\n",
    "        C[t] = random.choices([0,1,2], Gamma[C[t-1]], k = 1)[0]\n",
    "        for i in range(0,n):\n",
    "            Z[t,i] = random.choices([0,1], Z_prob[C[t]], k = 1)[0]\n",
    "            X[t,i] = np.random.poisson(lam = lmda[Z[t,i]])\n",
    "    return C, Z, X\n",
    "\n",
    "\n",
    "\n",
    "     \n",
    "\n"
   ]
  },
  {
   "cell_type": "code",
   "execution_count": null,
   "metadata": {},
   "outputs": [],
   "source": [
    "C, Z, X = forward_sim(10,1000)"
   ]
  },
  {
   "cell_type": "markdown",
   "metadata": {},
   "source": [
    "**VISUALIZATION**"
   ]
  },
  {
   "cell_type": "code",
   "execution_count": null,
   "metadata": {},
   "outputs": [],
   "source": []
  },
  {
   "cell_type": "code",
   "execution_count": null,
   "metadata": {},
   "outputs": [],
   "source": []
  },
  {
   "cell_type": "markdown",
   "metadata": {},
   "source": [
    "**MULTICLASS LOGISTIC REGRESSION**"
   ]
  },
  {
   "cell_type": "code",
   "execution_count": null,
   "metadata": {},
   "outputs": [],
   "source": []
  },
  {
   "cell_type": "code",
   "execution_count": null,
   "metadata": {},
   "outputs": [],
   "source": []
  }
 ],
 "metadata": {
  "kernelspec": {
   "display_name": "base",
   "language": "python",
   "name": "python3"
  },
  "language_info": {
   "codemirror_mode": {
    "name": "ipython",
    "version": 3
   },
   "file_extension": ".py",
   "mimetype": "text/x-python",
   "name": "python",
   "nbconvert_exporter": "python",
   "pygments_lexer": "ipython3",
   "version": "3.10.9"
  }
 },
 "nbformat": 4,
 "nbformat_minor": 2
}
