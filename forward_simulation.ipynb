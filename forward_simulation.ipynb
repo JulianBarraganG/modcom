{
 "cells": [
  {
   "cell_type": "code",
   "execution_count": null,
   "metadata": {},
   "outputs": [],
   "source": [
    "import numpy as np\n",
    "import random\n",
    "from sklearn.linear_model import LogisticRegression\n",
    "from sklearn.model_selection import train_test_split\n",
    "import matplotlib.pyplot as plt"
   ]
  },
  {
   "cell_type": "markdown",
   "metadata": {},
   "source": [
    "**FORWARD SIMULATION**"
   ]
  },
  {
   "cell_type": "code",
   "execution_count": null,
   "metadata": {},
   "outputs": [],
   "source": [
    "def forward_sim(n, T, alpha=0.9, gamma=0.1, beta=0.2, lmda=(1, 5)): \n",
    "\n",
    "    # Pre-defined (transition) probabilities\n",
    "    Gamma = [[1-gamma, 0, gamma], [0, 1-gamma, gamma], [beta*0.5, beta*0.5, 1-beta]]\n",
    "    Z_prob = [[alpha, 1-alpha], [1-alpha, alpha], [0.5, 0.5]]\n",
    "\n",
    "    # Initialize arrays\n",
    "    C = np.zeros(T, dtype=int)\n",
    "    Z = np.zeros((T, n), dtype=int)\n",
    "    X = np.zeros((T, n), dtype=int)\n",
    "\n",
    "    # Initial state\n",
    "    C[0] = 2\n",
    "\n",
    "    # Initialize X and Z for t=0\n",
    "    for i in range(0, n):\n",
    "            Z[0, i] = random.choices([0, 1], Z_prob[C[0]])[0]\n",
    "            X[0, i] = np.random.poisson(lam = lmda[Z[0, i]])\n",
    "\n",
    "    # Simulate the proces for the remaining t=1 to t=T timesteps\n",
    "    for t in range(1, T):\n",
    "        C[t] = random.choices([0, 1, 2], Gamma[C[t-1]])[0]\n",
    "        for i in range(0, n):\n",
    "            Z[t, i] = random.choices([0, 1], Z_prob[C[t]])[0]\n",
    "            X[t, i] = np.random.poisson(lam = lmda[Z[t, i]])\n",
    "\n",
    "    return C, Z, X"
   ]
  },
  {
   "cell_type": "code",
   "execution_count": null,
   "metadata": {},
   "outputs": [],
   "source": [
    "n = 2; T = 5\n",
    "C, Z, X = forward_sim(n, T)"
   ]
  },
  {
   "cell_type": "markdown",
   "metadata": {},
   "source": [
    "**VISUALIZATION**"
   ]
  },
  {
   "cell_type": "code",
   "execution_count": null,
   "metadata": {},
   "outputs": [],
   "source": [
    "# Mean Z per t\n",
    "avg_Z = np.mean(Z,axis=1).reshape(1,-1)[0]\n",
    "avg_X = np.mean(X,axis=1).reshape(1,-1)[0]\n",
    "\n",
    "# Visualize the data\n",
    "plt.figure(figsize=(16, 8))\n",
    "\n",
    "# Plot hidden states (C)\n",
    "plt.subplot(3, 1, 1)\n",
    "plt.plot(range(T), C, marker='o', color='blue')\n",
    "plt.title('Hidden States (C)')\n",
    "plt.xlabel('Time Step')\n",
    "plt.ylabel('State')\n",
    "plt.grid(True)\n",
    "\n",
    "# Plot observed states (Z)\n",
    "plt.subplot(3, 1, 2)\n",
    "for i in range(n):\n",
    "    plt.plot(range(T), Z[:, i], marker='o', alpha=1.5/n, color = 'red', linewidth = 0)\n",
    "plt.plot(range(T), avg_Z, color='green', label = 'Mean State')\n",
    "plt.title('Hidden States (Z)')\n",
    "plt.xlabel('Time Step')\n",
    "plt.ylabel('State')\n",
    "plt.legend()\n",
    "plt.grid(True)\n",
    "\n",
    "# Plot observed states (X)\n",
    "plt.subplot(3, 1, 3)\n",
    "plt.plot(range(T), avg_X, color='red', label = 'Mean Spike Count')\n",
    "plt.title('Mean Observed (X)')\n",
    "plt.xlabel('Time Step')\n",
    "plt.ylabel('Spike Count')\n",
    "plt.legend()\n",
    "plt.grid(True)\n",
    "\n",
    "plt.tight_layout()\n",
    "plt.show()"
   ]
  },
  {
   "cell_type": "code",
   "execution_count": null,
   "metadata": {},
   "outputs": [],
   "source": []
  },
  {
   "cell_type": "markdown",
   "metadata": {},
   "source": [
    "**MULTICLASS LOGISTIC REGRESSION**"
   ]
  },
  {
   "cell_type": "code",
   "execution_count": null,
   "metadata": {},
   "outputs": [],
   "source": [
    "from sklearn.linear_model import LogisticRegression\n",
    "from sklearn.model_selection import train_test_split\n",
    "\n",
    "# Split the date for validation\n",
    "X_train, X_test, C_train, C_test = train_test_split(X, C, test_size=0.2, random_state=42)\n",
    "\n",
    "# Assert shapes\n",
    "assert(X_train.shape == (T-0.2*T, n))\n",
    "assert(X_test.shape == (0.2*T, n))\n",
    "assert(C_train.shape == (T-0.2*T, ))\n",
    "assert(C_test.shape == (0.2*T, ))"
   ]
  },
  {
   "cell_type": "code",
   "execution_count": null,
   "metadata": {},
   "outputs": [],
   "source": [
    "# Train multinomial logistic regression using Scikit-Learn\n",
    "LogReg = LogisticRegression(random_state=42, multi_class='multinomial')\n",
    "\n",
    "# Fit the data and get return score\n",
    "LogReg.fit(X_train, C_train)\n",
    "LogReg.score(X_test, C_test)"
   ]
  },
  {
   "cell_type": "code",
   "execution_count": null,
   "metadata": {},
   "outputs": [],
   "source": [
    "# Predict_proba essentially returns the CPD for P(C|X)\n",
    "LogReg.predict_proba(X)"
   ]
  }
 ],
 "metadata": {
  "kernelspec": {
   "display_name": "base",
   "language": "python",
   "name": "python3"
  },
  "language_info": {
   "codemirror_mode": {
    "name": "ipython",
    "version": 3
   },
   "file_extension": ".py",
   "mimetype": "text/x-python",
   "name": "python",
   "nbconvert_exporter": "python",
   "pygments_lexer": "ipython3",
   "version": "3.11.5"
  }
 },
 "nbformat": 4,
 "nbformat_minor": 2
}
