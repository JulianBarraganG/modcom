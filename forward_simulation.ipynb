{
 "cells": [
  {
   "cell_type": "code",
   "execution_count": null,
   "metadata": {},
   "outputs": [],
   "source": [
    "import numpy as np\n",
    "import random"
   ]
  },
  {
   "cell_type": "code",
   "execution_count": null,
   "metadata": {},
   "outputs": [],
   "source": [
    "def forward_sim(n,T, alpha=0.9, gamma=0.1, beta=0.2, lmda=(1, 5)): \n",
    "    Gamma = [[1-gamma, 0, gamma], [0, 1-gamma, gamma], [beta*0.5, beta*0.5, 1-beta]]\n",
    "    Z_prob = [[alpha, 1-alpha], [1-alpha, alpha], [0.5, 0.5]]\n",
    "    C = np.zeros(T,dtype=int)\n",
    "    Z = np.zeros((n,T), dtype=int)\n",
    "    X = np.zeros((n,T), dtype=int)\n",
    "    C[0] = 2\n",
    "    print(C[0])\n",
    "    for i in range(0,n):\n",
    "            Z[i,0] = random.choices([0,1], Z_prob[C[0]], k = 1)[0]\n",
    "            X[i][0] = np.random.poisson(lam = lmda[Z[i,0]])\n",
    "\n",
    "    for t in range(1,T):\n",
    "        C[t] = random.choices([0,1,2], Gamma[C[t-1]], k = 1)[0]\n",
    "        for i in range(0,n):\n",
    "            Z[i][t] = random.choices([0,1], Z_prob[C[t]], k = 1)[0]\n",
    "            X[i][t] = np.random.poisson(lam = lmda[Z[i,t]])\n",
    "    return C, Z, X\n",
    "\n",
    "\n",
    "\n",
    "     \n",
    "\n"
   ]
  },
  {
   "cell_type": "code",
   "execution_count": null,
   "metadata": {},
   "outputs": [],
   "source": [
    "C, Z, X = forward_sim(10,1000)"
   ]
  },
  {
   "cell_type": "code",
   "execution_count": null,
   "metadata": {},
   "outputs": [],
   "source": [
    "C"
   ]
  },
  {
   "cell_type": "code",
   "execution_count": null,
   "metadata": {},
   "outputs": [],
   "source": [
    "Z"
   ]
  },
  {
   "cell_type": "code",
   "execution_count": null,
   "metadata": {},
   "outputs": [],
   "source": [
    "X"
   ]
  },
  {
   "cell_type": "code",
   "execution_count": null,
   "metadata": {},
   "outputs": [],
   "source": []
  }
 ],
 "metadata": {
  "kernelspec": {
   "display_name": "base",
   "language": "python",
   "name": "python3"
  },
  "language_info": {
   "codemirror_mode": {
    "name": "ipython",
    "version": 3
   },
   "file_extension": ".py",
   "mimetype": "text/x-python",
   "name": "python",
   "nbconvert_exporter": "python",
   "pygments_lexer": "ipython3",
   "version": "3.10.9"
  }
 },
 "nbformat": 4,
 "nbformat_minor": 2
}
