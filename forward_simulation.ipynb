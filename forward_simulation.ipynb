{
 "cells": [
  {
   "cell_type": "code",
   "execution_count": null,
   "metadata": {},
   "outputs": [],
   "source": [
    "import numpy as np\n",
    "import math\n",
    "import random\n",
    "from sklearn.linear_model import LogisticRegression\n",
    "from sklearn.model_selection import train_test_split\n",
    "import matplotlib.pyplot as plt"
   ]
  },
  {
   "cell_type": "markdown",
   "metadata": {},
   "source": [
    "# Part I\n",
    "### Forward Simulation and Logistic Regression"
   ]
  },
  {
   "cell_type": "markdown",
   "metadata": {},
   "source": [
    "**FORWARD SIMULATION**"
   ]
  },
  {
   "cell_type": "code",
   "execution_count": null,
   "metadata": {},
   "outputs": [],
   "source": [
    "alpha=0.9 # Probability parameter alpha in (0.5, 1) for P(Z|C)\n",
    "beta=0.2  # Transition probability parameter for moving to and from parallel processing\n",
    "gamma=0.1  # Transition probability parameter between states\n",
    "lmda=(1, 5)  # Rate parameters for the Poisson distribution modeling spike counts under each attention state.\n",
    "\n",
    "# Transition probability matrix for the HMM, parameterized by gamma and beta (Transition probabilities of switching between states C in {0, 1, 2}).\n",
    "Gamma = np.array([[1-gamma, 0, gamma], [0, 1-gamma, gamma], [beta*0.5, beta*0.5, 1-beta]])\n",
    "Z_prob = [[alpha, 1-alpha], [1-alpha, alpha], [0.5, 0.5]]\n",
    "\n",
    "def forward_sim(n, T, alpha=0.9, gamma=0.1, beta=0.2, lmda=(1, 5)): \n",
    "    # Pre-defined (transition) probabilities\n",
    "    Gamma = [[1-gamma, 0, gamma], [0, 1-gamma, gamma], [beta*0.5, beta*0.5, 1-beta]]\n",
    "    \n",
    "    # Initialize arrays\n",
    "    C = np.zeros(T, dtype=int)\n",
    "    Z = np.zeros((T, n), dtype=int)\n",
    "    X = np.zeros((T, n), dtype=int)\n",
    "\n",
    "    # Simulate the proces for the remaining t=1 to t=T timesteps\n",
    "    for t in range(1, T):\n",
    "        C[t] = random.choices([0, 1, 2], Gamma[C[2] if t == 0 else C[t-1]])[0] # First state is 0, every other picked random via the Gamma transition matrix\n",
    "        for i in range(0, n):\n",
    "            Z[t, i] = random.choices([0, 1], Z_prob[C[t]])[0] # Simulated hidden variables Z drawn from the distribution P(Z|C)\n",
    "            X[t, i] = np.random.poisson(lam = lmda[Z[t, i]]) # Simulated observed variables drawn at random from the poisson distribution.\n",
    "\n",
    "    return C, Z, X"
   ]
  },
  {
   "cell_type": "code",
   "execution_count": null,
   "metadata": {},
   "outputs": [],
   "source": [
    "### Simulate Data for T timesteps and n neurons ###\n",
    "T = 100  # Time period\n",
    "n = 10   # Number of neurons\n",
    "\n",
    "# the C_0 vector which would correspond to C[-1], but is redundant for the purposes of the C array, \n",
    "# which corresponds to a C for every T. In reality we have T+1 C variables and T x N Z and X variables.\n",
    "C_initial = np.array([0, 0, 1]) \n",
    "C, Z, X = forward_sim(n, T) # Simulated arrays for C, Z, X\n"
   ]
  },
  {
   "cell_type": "markdown",
   "metadata": {},
   "source": [
    "**VISUALIZATION**"
   ]
  },
  {
   "cell_type": "code",
   "execution_count": null,
   "metadata": {},
   "outputs": [],
   "source": [
    "\n",
    "#mean Z pr tid\n",
    "avg_Z = np.mean(Z,axis=1).reshape(1,-1)[0]\n",
    "avg_X = np.mean(X,axis=1).reshape(1,-1)[0]\n",
    "\n",
    "# Visualize the data\n",
    "plt.figure(figsize=(16, 8))\n",
    "\n",
    "# Plot hidden states (C)\n",
    "plt.subplot(3, 1, 1)\n",
    "plt.plot(range(T), C, marker='o', color='blue')\n",
    "plt.title('Hidden States (C)')\n",
    "plt.xlabel('Time Step')\n",
    "plt.ylabel('State')\n",
    "plt.grid(True)\n",
    "\n",
    "# Plot observed states (Z)\n",
    "plt.subplot(3, 1, 2)\n",
    "for i in range(n):\n",
    "    plt.plot(range(T), Z[:, i], marker='o', alpha=1.5/n, color = 'red', linewidth = 0)\n",
    "plt.plot(range(T), avg_Z, color='green', label = 'Mean State')\n",
    "plt.title('Hidden States (Z)')\n",
    "plt.xlabel('Time Step')\n",
    "plt.ylabel('State')\n",
    "plt.legend()\n",
    "plt.grid(True)\n",
    "\n",
    "# Plot observed states (X)\n",
    "plt.subplot(3, 1, 3)\n",
    "plt.plot(range(T), avg_X, color='red', label = 'Mean Spike Count')\n",
    "plt.title('Mean Observed (X)')\n",
    "plt.xlabel('Time Step')\n",
    "plt.ylabel('Spike Count')\n",
    "plt.legend()\n",
    "plt.grid(True)\n",
    "\n",
    "plt.tight_layout()\n",
    "plt.show()"
   ]
  },
  {
   "cell_type": "markdown",
   "metadata": {},
   "source": [
    "### MULTICLASS LOGISTIC REGRESSION "
   ]
  },
  {
   "cell_type": "code",
   "execution_count": null,
   "metadata": {},
   "outputs": [],
   "source": [
    "# Split the date for validation\n",
    "X_train, X_test, C_train, C_test = train_test_split(X, C, test_size=0.2, random_state=42)\n",
    "\n",
    "# Assert shapes\n",
    "assert(X_train.shape == (T-0.2*T, n))\n",
    "assert(X_test.shape == (0.2*T, n))\n",
    "assert(C_train.shape == (T-0.2*T, ))\n",
    "assert(C_test.shape == (0.2*T, ))"
   ]
  },
  {
   "cell_type": "code",
   "execution_count": null,
   "metadata": {},
   "outputs": [],
   "source": [
    "# Train multinomial logistic regression using Scikit-Learn\n",
    "LogReg = LogisticRegression(random_state=42, multi_class='multinomial')\n",
    "\n",
    "LogReg.fit(X_train, C_train)\n",
    "LogReg.score(X_test, C_test)"
   ]
  },
  {
   "cell_type": "code",
   "execution_count": null,
   "metadata": {},
   "outputs": [],
   "source": [
    "# Predict_proba essentially returns the CPD for P(C|X)\n",
    "LogReg.predict_proba(X)"
   ]
  },
  {
   "cell_type": "markdown",
   "metadata": {},
   "source": [
    "# Part II\n",
    "### Inference algorithms, Testing Inference on Simulated Data"
   ]
  },
  {
   "cell_type": "markdown",
   "metadata": {},
   "source": [
    "**INFERENCE OF Z**"
   ]
  },
  {
   "cell_type": "code",
   "execution_count": null,
   "metadata": {},
   "outputs": [],
   "source": [
    "def PX_given_Z(x, z, lmda=(1, 5)):\n",
    "    return (np.exp(-1 * lmda[z]) * ((lmda[z]**x)/math.factorial(x)))\n",
    "\n",
    "# Returns the answer to the query P(X=x|Z=z)"
   ]
  },
  {
   "cell_type": "code",
   "execution_count": null,
   "metadata": {},
   "outputs": [],
   "source": [
    "T = 100  # Time period\n",
    "n = 10   # Number of neurons\n",
    "\n",
    "\n",
    "C, Z, X = forward_sim(n, T)"
   ]
  },
  {
   "cell_type": "code",
   "execution_count": null,
   "metadata": {},
   "outputs": [],
   "source": [
    "#We assume that P(Z=0) = 0.5 due to the distribution of Z | C, and due to an assumption that P(C=1) = P(C=0)\n",
    "Z_marg = (0.5, 0.5)\n",
    "\n",
    "\n",
    "#We start by calculating P(X) for every observed X and save them in a table. It doesn't make sense to compute P(X) for unobserved values of X\n",
    "X_marg = np.zeros(np.max(X)+1)\n",
    "#We calculate P(X) using the formula: P(X=x) = P(X=x|Z=0)P(Z=0) + P(X=x|Z=1)P(Z=1)\n",
    "#This works because Z ony takes values in {0,1}. We simply obtain the joint distribution P(X,Z) and sum out Z\n",
    "for i in range(len(X_marg)):\n",
    "    X_marg[i] = PX_given_Z(i, 0)*Z_marg[0] + PX_given_Z(i, 1)*Z_marg[1]\n",
    "\n",
    "\n",
    "#X_marg[i] holds the answer for the query P(X=i)\n",
    "#Likewise Z_marg[i] holds the answer for the query p(Z=i)\n",
    "    "
   ]
  },
  {
   "cell_type": "code",
   "execution_count": null,
   "metadata": {},
   "outputs": [],
   "source": [
    "Z_inferred = np.zeros((T,n,2), dtype=float) \n",
    "#For every observed X=x, we calculate the conditional probaility P(Z=0|X=x)\n",
    "#We use Bayes theorem to do this. \n",
    "\n",
    "for i in range(Z_inferred.shape[0]): \n",
    "    for j in range(Z_inferred.shape[1]): \n",
    "        Z_inferred[i,j,0] = (PX_given_Z(X[i,j], 0)*Z_marg[0])/(X_marg[X[i,j]])\n",
    "        Z_inferred[i,j,1] = 1 - Z_inferred[i,j,0] \n"
   ]
  },
  {
   "cell_type": "code",
   "execution_count": null,
   "metadata": {},
   "outputs": [],
   "source": [
    "def PZ_given_C(c, z, alpha=0.9):\n",
    "    Z_prob = np.array([[alpha, 1-alpha], [1-alpha, alpha], [0.5, 0.5]])\n",
    "    return Z_prob[c, z]"
   ]
  },
  {
   "cell_type": "markdown",
   "metadata": {},
   "source": [
    "### Forward Algorithm"
   ]
  },
  {
   "cell_type": "code",
   "execution_count": null,
   "metadata": {},
   "outputs": [],
   "source": [
    "def calc_emission_proba(t: int, c: int) -> float:\n",
    "    \"\"\"\n",
    "    Calculates the emission probabilities at timestep t\n",
    "    The probabilities given by P(X_1,t...X_n,t|C_t)\n",
    "    P(Z|C) by function PZ_given_C(c, z)\n",
    "    P(X|Z) Poisson distribution given by PX_given_Z(x, z)\n",
    "    \"\"\"\n",
    "    emission_proba = 0.\n",
    "    for i in range(n):\n",
    "        emission_proba += np.log(PZ_given_C(c, 0)*PX_given_Z(X[t, i], 0) + PZ_given_C(c, 1)*PX_given_Z(X[t, i], 1))\n",
    "    emission_proba = np.exp(emission_proba)\n",
    "    return emission_proba"
   ]
  },
  {
   "cell_type": "code",
   "execution_count": null,
   "metadata": {},
   "outputs": [],
   "source": [
    "def forward():\n",
    "    \"\"\"\n",
    "    Iteratively updates the Alpha_t vectors in the Alpha matrix.\n",
    "    The Alpha matrix represents the P(C|X) distribution for each timestep T as an T x 3 matrix.\n",
    "    \"\"\"\n",
    "    # Initialization of the forward probabilities matrix, Alpha.\n",
    "    Alpha = np.zeros((T, 3), dtype=float)  # T x 3 matrix P(C|X)\n",
    "    Alpha[0, 2] = 1.  # Assumed state C_0=2 becomes our Alpha_0 vector (Alpha_0=[0, 0, 1])\n",
    "    for t in range(1, T):\n",
    "        for c in range(3):\n",
    "            c_prev = 0. # For calculating SUM_c_t-1 P(C_t|c_t-1)*Alpha_t-1(c_t-1)\n",
    "            for c_ in range(3):\n",
    "                c_prev += Gamma[c_, c]*Alpha[t-1, c_]\n",
    "            Alpha[t, c] = calc_emission_proba(t, c)*c_prev # Alpha_t = P(X_1,t,...,X_n,t|C_t) * SUM_c_t-1 P(C_t|c_t-1)*Alpha_t-1(c_t-1)\n",
    "        row_sum = np.sum(Alpha[t], axis=0) # Normalizing sum for each row\n",
    "        Alpha[t] = Alpha[t]/row_sum # Row-wise normalization for the CPD, normalizing the unnormalized Gibbs measure of each row.\n",
    "    return Alpha"
   ]
  },
  {
   "cell_type": "markdown",
   "metadata": {},
   "source": [
    "**CONFIDENCE AGAINST SIMULATED DATA**"
   ]
  },
  {
   "cell_type": "code",
   "execution_count": null,
   "metadata": {},
   "outputs": [],
   "source": [
    "C_inferred = forward() \n",
    "def calc_confidence_of_C(infered_C, true_C):\n",
    "    Confidence = np.zeros(len(true_C), dtype = float)\n",
    "    for c in true_C: \n",
    "        for t in range(0, len(true_C)): \n",
    "            Confidence[t] = infered_C[t, true_C[t]]\n",
    "    return np.average(Confidence)"
   ]
  },
  {
   "cell_type": "code",
   "execution_count": null,
   "metadata": {},
   "outputs": [],
   "source": [
    "def calc_confidence_of_Z(inferred_Z, true_Z):\n",
    "    Confidence = np.zeros((true_Z.shape[0],true_Z.shape[1]), dtype = float)\n",
    "    for t in range(0,true_Z.shape[0]): \n",
    "        for n in range(0, true_Z.shape[1]): \n",
    "            Confidence[t,n] = inferred_Z[t,n,[true_Z[t,n]]]\n",
    "    return np.average(Confidence)\n"
   ]
  },
  {
   "cell_type": "markdown",
   "metadata": {},
   "source": [
    "**VISUALIZING CONFIDENCE**"
   ]
  },
  {
   "cell_type": "code",
   "execution_count": null,
   "metadata": {},
   "outputs": [],
   "source": [
    "plt.figure(figsize=(16, 4))\n",
    "# Plot hidden states (C)\n",
    "for i in range(3):  # Iterate over possible values 0, 1, 2\n",
    "    plt.scatter(range(T), [i+0.05] * T,  c='red', alpha=C_inferred[:, i])\n",
    "plt.plot(range(T), C-0.05, marker='o', color='blue', zorder = 0)\n",
    "plt.title('Hidden States (C)')\n",
    "plt.xlabel('Time Step')\n",
    "plt.ylabel('State')\n",
    "plt.yticks([0, 1, 2])\n",
    "plt.grid(True, axis='y')  # Only grid lines on the y-axis\n"
   ]
  },
  {
   "cell_type": "code",
   "execution_count": null,
   "metadata": {},
   "outputs": [],
   "source": []
  }
 ],
 "metadata": {
  "kernelspec": {
   "display_name": "base",
   "language": "python",
   "name": "python3"
  },
  "language_info": {
   "codemirror_mode": {
    "name": "ipython",
    "version": 3
   },
   "file_extension": ".py",
   "mimetype": "text/x-python",
   "name": "python",
   "nbconvert_exporter": "python",
   "pygments_lexer": "ipython3",
   "version": "3.10.9"
  }
 },
 "nbformat": 4,
 "nbformat_minor": 2
}
