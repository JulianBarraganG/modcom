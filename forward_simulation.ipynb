{
 "cells": [
  {
   "cell_type": "code",
   "execution_count": 118,
   "metadata": {},
   "outputs": [],
   "source": [
    "import numpy as np\n",
    "import random"
   ]
  },
  {
   "cell_type": "markdown",
   "metadata": {},
   "source": [
    "**FORWARD SIMULATION**"
   ]
  },
  {
   "cell_type": "code",
   "execution_count": 119,
   "metadata": {},
   "outputs": [],
   "source": [
    "def forward_sim(n,T, alpha=0.9, gamma=0.1, beta=0.2, lmda=(1, 5)): \n",
    "    Gamma = [[1-gamma, 0, gamma], [0, 1-gamma, gamma], [beta*0.5, beta*0.5, 1-beta]]\n",
    "    Z_prob = [[alpha, 1-alpha], [1-alpha, alpha], [0.5, 0.5]]\n",
    "    C = np.zeros(T,dtype=int)\n",
    "    Z = np.zeros((T,n), dtype=int)\n",
    "    X = np.zeros((T,n), dtype=int)\n",
    "    C[0] = 2\n",
    "    for i in range(0,n):\n",
    "            Z[0,i] = random.choices([0,1], Z_prob[C[0]], k = 1)[0]\n",
    "            X[0,i] = np.random.poisson(lam = lmda[Z[0,i]])\n",
    "\n",
    "    for t in range(1,T):\n",
    "        C[t] = random.choices([0,1,2], Gamma[C[t-1]], k = 1)[0]\n",
    "        for i in range(0,n):\n",
    "            Z[t,i] = random.choices([0,1], Z_prob[C[t]], k = 1)[0]\n",
    "            X[t,i] = np.random.poisson(lam = lmda[Z[t,i]])\n",
    "    return C, Z, X\n",
    "\n",
    "\n",
    "\n",
    "     \n",
    "\n"
   ]
  },
  {
   "cell_type": "code",
   "execution_count": null,
   "metadata": {},
   "outputs": [],
   "source": [
    "C, Z, X = forward_sim(10,1000)"
   ]
  },
  {
   "cell_type": "markdown",
   "metadata": {},
   "source": [
    "**VISUALIZATION**"
   ]
  },
  {
   "cell_type": "code",
   "execution_count": 121,
   "metadata": {},
   "outputs": [],
   "source": [
    "import matplotlib.pyplot as plt"
   ]
  },
  {
   "cell_type": "code",
   "execution_count": 122,
   "metadata": {},
   "outputs": [],
   "source": [
    "avg_Z = np.mean(Z, axis=1).reshape(1,-1)[0]\n",
    "avg_X = np.mean(X, axis=1).reshape(1,-1)[0]"
   ]
  },
  {
   "cell_type": "code",
   "execution_count": 123,
   "metadata": {},
   "outputs": [
    {
     "data": {
      "text/plain": [
       "range(0, 50)"
      ]
     },
     "execution_count": 123,
     "metadata": {},
     "output_type": "execute_result"
    }
   ],
   "source": [
    "t = range(len(C))\n",
    "t"
   ]
  },
  {
   "cell_type": "code",
   "execution_count": 124,
   "metadata": {},
   "outputs": [],
   "source": [
    "def normalize(arr, t_min, t_max):\n",
    "    norm_arr = []\n",
    "    diff = t_max - t_min\n",
    "    diff_arr = max(arr) - min(arr)    \n",
    "    for i in arr:\n",
    "        temp = (((i - min(arr))*diff)/diff_arr) + t_min\n",
    "        norm_arr.append(temp)\n",
    "    return norm_arr"
   ]
  },
  {
   "cell_type": "code",
   "execution_count": 126,
   "metadata": {},
   "outputs": [
    {
     "data": {
      "image/png": "[encoded data removed]",
      "text/plain": [
       "<Figure size 1000x200 with 1 Axes>"
      ]
     },
     "metadata": {},
     "output_type": "display_data"
    }
   ],
   "source": [
    "c_col = range(len(C))  \n",
    "plt.figure(figsize=(int(len(C)/5),int(len(C)/25)))\n",
    "cmap = plt.get_cmap('viridis_r')\n",
    "norm = plt.Normalize(0, 1)\n",
    "# Plot each point individually with the specified colors and adjusted x-coordinates\n",
    "for i, value in enumerate(C):\n",
    "    \n",
    "    if value == 0:\n",
    "        color = cmap(0)\n",
    "        plt.plot(i, 2, color = color, marker = 'o')  # Red marker\n",
    "    elif value == 1:\n",
    "        color = cmap(0.99)\n",
    "        plt.plot(i, 2, color = color,  marker = 'o')  # Blue marker\n",
    "    elif value == 2:\n",
    "        color = cmap(0.5)\n",
    "        plt.plot(i, 2, color = color,  marker = 'o')  # Magenta (purple) marker\n",
    "\n",
    "\n",
    "for i, value in enumerate(normalize(avg_Z, 0, 0.99)): \n",
    "    color = cmap(value)\n",
    "    plt.plot(i, 1, color = color,  marker = 'o')\n",
    "\n",
    "\n",
    "for i, value in enumerate(normalize(avg_X, 0, 1.2)): \n",
    "    color = cmap(norm(value))\n",
    "    plt.plot(i, 0, color = color,  marker = 'o')\n",
    "\n",
    "\n",
    "plt.show()\n",
    "\n",
    "\n",
    "\n"
   ]
  },
  {
   "cell_type": "code",
   "execution_count": null,
   "metadata": {},
   "outputs": [],
   "source": []
  },
  {
   "cell_type": "markdown",
   "metadata": {},
   "source": [
    "**MULTICLASS LOGISTIC REGRESSION**"
   ]
  },
  {
   "cell_type": "code",
   "execution_count": null,
   "metadata": {},
   "outputs": [],
   "source": []
  },
  {
   "cell_type": "code",
   "execution_count": null,
   "metadata": {},
   "outputs": [],
   "source": []
  }
 ],
 "metadata": {
  "kernelspec": {
   "display_name": "base",
   "language": "python",
   "name": "python3"
  },
  "language_info": {
   "codemirror_mode": {
    "name": "ipython",
    "version": 3
   },
   "file_extension": ".py",
   "mimetype": "text/x-python",
   "name": "python",
   "nbconvert_exporter": "python",
   "pygments_lexer": "ipython3",
   "version": "3.10.9"
  }
 },
 "nbformat": 4,
 "nbformat_minor": 2
}
