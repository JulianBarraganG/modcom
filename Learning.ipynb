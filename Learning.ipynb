{
 "cells": [
  {
   "cell_type": "code",
   "execution_count": null,
   "metadata": {},
   "outputs": [],
   "source": [
    "import numpy as np\n",
    "from numpy import ndarray\n",
    "import math\n",
    "import random\n",
    "from sklearn.linear_model import LogisticRegression\n",
    "from sklearn.model_selection import train_test_split\n",
    "import matplotlib.pyplot as plt\n",
    "import pandas as p"
   ]
  },
  {
   "cell_type": "markdown",
   "metadata": {},
   "source": [
    "# Part III\n",
    "### Learning"
   ]
  },
  {
   "cell_type": "markdown",
   "metadata": {},
   "source": [
    "Vi finder først en måde/metode til at estimere parametrene fra noget observeret data. Dette bruger vi også senere til EM algoritmen. Vi omskriver forward_sim uden faste variabel deklerationer. "
   ]
  },
  {
   "cell_type": "code",
   "execution_count": null,
   "metadata": {},
   "outputs": [],
   "source": [
    "alpha=0.9 # Probability parameter alpha in (0.5, 1) for P(Z|C)\n",
    "beta=0.2  # Transition probability parameter for moving to and from parallel processing\n",
    "gamma=0.1  # Transition probability parameter between states\n",
    "lmda=(1, 5)  # Rate parameters for the Poisson distribution modeling spike counts under each attention state.\n",
    "\n",
    "# Transition probability matrix for the HMM, parameterized by gamma and beta (Transition probabilities of switching between states C in {0, 1, 2}).\n",
    "Gamma = np.array([[1-gamma, 0, gamma], [0, 1-gamma, gamma], [beta*0.5, beta*0.5, 1-beta]])\n",
    "Z_prob = [[alpha, 1-alpha], [1-alpha, alpha], [0.5, 0.5]]\n",
    "\n",
    "def forward_sim(n, T, alpha=0.9, gamma=0.1, beta=0.2, lmda=(1, 5)): \n",
    "    \n",
    "    # Initialize arrays\n",
    "    C = np.zeros(T, dtype=int)\n",
    "    Z = np.zeros((T, n), dtype=int)\n",
    "    X = np.zeros((T, n), dtype=int)\n",
    "\n",
    "    # Simulate the proces for the remaining t=1 to t=T timesteps\n",
    "    for t in range(1, T):\n",
    "        C[t] = random.choices([0, 1, 2], Gamma[2 if t == 0 else C[t-1]])[0] # First state is 0, every other picked random via the Gamma transition matrix\n",
    "        for i in range(0, n):\n",
    "            Z[t, i] = random.choices([0, 1], Z_prob[C[t]])[0] # Simulated hidden variables Z drawn from the distribution P(Z|C)\n",
    "            X[t, i] = np.random.poisson(lam = lmda[Z[t, i]]) # Simulated observed variables drawn at random from the poisson distribution.\n",
    "\n",
    "    return C, Z, X"
   ]
  },
  {
   "cell_type": "markdown",
   "metadata": {},
   "source": [
    "Efter at have en måde til at estimere nogen parametre, kan vi antage at det er de rigtige parametre, og bruge dette til at infer nye c og z. "
   ]
  },
  {
   "cell_type": "markdown",
   "metadata": {},
   "source": [
    "Initialization"
   ]
  },
  {
   "cell_type": "code",
   "execution_count": null,
   "metadata": {},
   "outputs": [],
   "source": [
    "### Simulate Data for T timesteps and n neurons ###\n",
    "T = 100  # Time period\n",
    "n = 10   # Number of neurons\n",
    "\n",
    "# The C_0 vector which would correspond to C[-1], but is redundant for the purposes of the C array, \n",
    "# which corresponds to a C for every T. In reality we have T+1 C variables and T x N Z and X variables.\n",
    "C_initial = np.array([0, 0, 1]) \n",
    "C, Z, X = forward_sim(n, T,alpha=0.9, gamma=0.1, beta=0.2, lmda=(1, 5))"
   ]
  },
  {
   "cell_type": "code",
   "execution_count": null,
   "metadata": {},
   "outputs": [],
   "source": [
    "# Function for P(X|Z)\n",
    "def PX_given_Z(x, z, lmda: tuple):\n",
    "    return (np.exp(-1 * lmda[z]) * ((lmda[z]**x)/math.factorial(x)))\n",
    "\n"
   ]
  },
  {
   "cell_type": "code",
   "execution_count": null,
   "metadata": {},
   "outputs": [],
   "source": [
    "def Z_inferred(lmda: tuple, alpha: float):\n",
    "    #For every observed X=x, we calculate the conditional probaility P(Z=0|X=x)\n",
    "    #We use Bayes theorem to do this. \n",
    "    Z_inferred = np.zeros((T, n, 2), dtype=float) \n",
    "\n",
    "    Z_marg = (1-alpha, alpha) #We assume that P(Z=0) = 0.5 due to the distribution of Z | C, and due to an assumption that P(C=1) = P(C=0)\n",
    "\n",
    "    #We start by calculating P(X) for every observed X and save them in a table. It doesn't make sense to compute P(X) for unobserved values of X\n",
    "    X_marg = np.zeros(np.max(X) + 1)\n",
    "    #We calculate P(X) using the formula: P(X=x) = P(X=x|Z=0)P(Z=0) + P(X=x|Z=1)P(Z=1)\n",
    "    #This works because Z ony takes values in {0,1}. We simply obtain the joint distribution P(X,Z) and sum out Z\n",
    "\n",
    "    for i in range(len(X_marg)):\n",
    "        X_marg[i] = PX_given_Z(i, 0, lmda)*Z_marg[0] + PX_given_Z(i, 1, lmda)*Z_marg[1] \n",
    "    #X_marg[i] holds the answer for the query P(X=i), Likewise Z_marg[i] holds the answer for the query p(Z=i)\n",
    "\n",
    "    #For every observed X=x, we calculate the conditional probaility P(Z=0|X=x)\n",
    "    #We use Bayes theorem to do this. \n",
    "    for i in range(Z_inferred.shape[0]): \n",
    "        for j in range(Z_inferred.shape[1]): \n",
    "            Z_inferred[i, j, 0] = (PX_given_Z(X[i, j], 0, lmda)*Z_marg[0])/(X_marg[X[i, j]])\n",
    "            Z_inferred[i, j, 1] = 1 - Z_inferred[i, j, 0] \n"
   ]
  },
  {
   "cell_type": "code",
   "execution_count": null,
   "metadata": {},
   "outputs": [],
   "source": [
    "# Function for P(Z|C)\n",
    "def PZ_given_C(c, z, alpha):\n",
    "    Z_prob = np.array([[alpha, 1-alpha], [1-alpha, alpha], [0.5, 0.5]])\n",
    "    return Z_prob[c, z]"
   ]
  },
  {
   "cell_type": "code",
   "execution_count": null,
   "metadata": {},
   "outputs": [],
   "source": [
    "# Helper function for Forward Algorithm\n",
    "def calc_emission_proba(t: int, c: int, lmda: tuple, alpha: float) -> float:\n",
    "    \"\"\"\n",
    "    Calculates the emission probabilities at timestep t\n",
    "    The probabilities given by P(X_1,t...X_n,t|C_t)\n",
    "    P(Z|C) by function PZ_given_C(c, z)\n",
    "    P(X|Z) Poisson distribution given by PX_given_Z(x, z)\n",
    "    \"\"\"\n",
    "    emission_proba = 0.\n",
    "    for i in range(n):\n",
    "        emission_proba += np.log(PZ_given_C(c, 0, alpha)*PX_given_Z(X[t, i], 0, lmda) + PZ_given_C(c, 1, alpha)*PX_given_Z(X[t, i], 1, lmda))\n",
    "    emission_proba = np.exp(emission_proba)\n",
    "    return emission_proba\n"
   ]
  },
  {
   "cell_type": "code",
   "execution_count": null,
   "metadata": {},
   "outputs": [],
   "source": [
    "################## Forward Algorithm ##################\n",
    "def forward(alpha: float, beta: float, gamma: float, lmda: tuple) -> ndarray:\n",
    "    \"\"\"\n",
    "    Iteratively updates the Alpha_t vectors in the Alpha matrix.\n",
    "    The Alpha matrix represents the P(C|X) distribution for each timestep T as an T x 3 matrix.\n",
    "    \"\"\"\n",
    "    # Initialization of the forward probabilities matrix, Alpha.\n",
    "    Alpha = np.zeros((T, 3), dtype=float)  # T x 3 matrix P(C|X)\n",
    "\n",
    "    # Transition probability matrix for the HMM, parameterized by gamma and beta (Transition probabilities of switching between states C in {0, 1, 2}).\n",
    "    Gamma = np.array([[1-gamma, 0, gamma], [0, 1-gamma, gamma], [beta*0.5, beta*0.5, 1-beta]])\n",
    "\n",
    "    # Buttom-up approach for updating beliefs alpha_t for forward algorithm on C.\n",
    "    for t in range(T):\n",
    "        for c in range(3):\n",
    "            c_prev = 0. # For calculating SUM_c_t-1 P(C_t|c_t-1)*Alpha_t-1(c_t-1)\n",
    "            for c_ in range(3):\n",
    "                c_prev += Gamma[c_, c]*C_initial[c_] if t == 0 else Alpha[t-1, c_]\n",
    "            Alpha[t, c] = calc_emission_proba(t, c, lmda, alpha)*c_prev # Alpha_t = P(X_1,t,...,X_n,t|C_t) * SUM_c_t-1 P(C_t|c_t-1)*Alpha_t-1(c_t-1)\n",
    "        row_sum = np.sum(Alpha[t], axis=0) # Normalizing sum for each row\n",
    "        Alpha[t] = Alpha[t]/row_sum # Row-wise normalization for the CPD, normalizing the unnormalized Gibbs measure of each row.\n",
    "    return Alpha"
   ]
  },
  {
   "cell_type": "code",
   "execution_count": null,
   "metadata": {},
   "outputs": [],
   "source": [
    "def inferred_C_Z(alpha: float, beta: float, gamma: float, lmda: tuple):\n",
    "    \"\"\"\n",
    "    Infers the CPD of P(C|Z) as an T x 3 Alpha matrix\n",
    "    And the CPD P(Z|X) as an T x n Z_infered matrix\n",
    "    \"\"\"\n",
    "    Alpha = forward(alpha, beta, gamma, lmda)\n",
    "    Z_inf = Z_inferred(lmda, alpha)\n",
    "    return Alpha, Z_inf"
   ]
  },
  {
   "cell_type": "code",
   "execution_count": null,
   "metadata": {},
   "outputs": [],
   "source": [
    "Alpha, Z_inf = inferred_C_Z(alpha, beta, gamma, lmda)\n",
    "Alpha[30:50] # P(C|X) of the 19 timesteps t=30 to t=49\n",
    "C[30:50] # Simulated values of the hidden layer C from t=30 to t=49"
   ]
  },
  {
   "cell_type": "markdown",
   "metadata": {},
   "source": [
    "Prøver at lave en generel metode til at cementere værdierne til at være ny data."
   ]
  },
  {
   "cell_type": "code",
   "execution_count": null,
   "metadata": {},
   "outputs": [],
   "source": [
    "T = 100  # Time period\n",
    "n = 10   # Number of neurons\n",
    "\n"
   ]
  },
  {
   "cell_type": "code",
   "execution_count": null,
   "metadata": {},
   "outputs": [],
   "source": [
    "print(C[0])"
   ]
  },
  {
   "cell_type": "markdown",
   "metadata": {},
   "source": [
    "Cementering ud fra vores inference"
   ]
  },
  {
   "cell_type": "code",
   "execution_count": null,
   "metadata": {},
   "outputs": [],
   "source": [
    "def cement_data(inferd_Z, inferd_C):\n",
    "    Z = np.zeros((T,n),dtype=int)\n",
    "    C = np.zeros(T,dtype=int)\n",
    "\n",
    "    for t in range(1, T):\n",
    "        C[t] = np.argmax(inferd_C[t])\n",
    "        for i in range(n):\n",
    "            Z[t,i] = np.argmax(inferd_Z[t][i]) #giver det index hvor der er størst værdi i vores confidence matrix\n",
    "    \n",
    "    return [Z, C] #liste med 2 entries, Z og C"
   ]
  },
  {
   "cell_type": "markdown",
   "metadata": {},
   "source": [
    "Parameter finde funktioner"
   ]
  },
  {
   "cell_type": "code",
   "execution_count": null,
   "metadata": {},
   "outputs": [],
   "source": [
    "\n",
    "def find_param(Z_hat, C_hat):\n",
    "    \"\"\" \n",
    "    find_param updates parameters from new infered Z and C\n",
    "    Input: Array Z with shape [n,T], array C with shape [T,]\n",
    "    Returns: alpha, beta, gamma, lambda0, lambda1\n",
    "    \"\"\"\n",
    "    T = C_hat.shape[0]\n",
    "    n = Z_hat.shape[1]\n",
    "    \n",
    "    _beta    = 0.\n",
    "    _gamma   = 0.\n",
    "    _Z = (C_hat == 1).sum() * n\n",
    "    _W = (C_hat == 2).sum() \n",
    "    \n",
    "    _lambda0 = X[Z_hat == 0].sum() * (1/(Z_hat == 0).sum()) #Da både X og Z har samme shape kan vi bare tælle de indexer \n",
    "    _lambda1 = X[Z_hat == 1].sum() * (1/(Z_hat == 1).sum()) \n",
    "    \n",
    "    _alpha = 1/_Z * (Z_hat[C_hat == 1].sum())\n",
    "    \n",
    "    for t in range(T-1):\n",
    "        _beta  += 1 if (C_hat[t] < C_hat[t+1]) else 0\n",
    "        _gamma += 1 if (C_hat[t] > C_hat[t+1]) else 0\n",
    "    \n",
    "    _beta = 1/(T - _W) * _beta\n",
    "    _gamma = 1/_W * _gamma\n",
    "    \n",
    "    return _alpha, _beta, _gamma, _lambda0, _lambda1\n",
    "\n",
    "find_param(Z,C)"
   ]
  }
 ],
 "metadata": {
  "kernelspec": {
   "display_name": "base",
   "language": "python",
   "name": "python3"
  },
  "language_info": {
   "codemirror_mode": {
    "name": "ipython",
    "version": 3
   },
   "file_extension": ".py",
   "mimetype": "text/x-python",
   "name": "python",
   "nbconvert_exporter": "python",
   "pygments_lexer": "ipython3",
   "version": "3.11.5"
  }
 },
 "nbformat": 4,
 "nbformat_minor": 2
}
