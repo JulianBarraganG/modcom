{
 "cells": [
  {
   "cell_type": "code",
   "execution_count": null,
   "metadata": {},
   "outputs": [],
   "source": [
    "import numpy as np\n",
    "from numpy import ndarray\n",
    "import math\n",
    "import random\n",
    "from sklearn.linear_model import LogisticRegression\n",
    "from sklearn.model_selection import train_test_split\n",
    "import matplotlib.pyplot as plt\n",
    "import pandas as p"
   ]
  },
  {
   "cell_type": "markdown",
   "metadata": {},
   "source": [
    "# Part III\n",
    "### Learning"
   ]
  },
  {
   "cell_type": "markdown",
   "metadata": {},
   "source": [
    "Construct simulated data for testing learning implementation"
   ]
  },
  {
   "cell_type": "code",
   "execution_count": null,
   "metadata": {},
   "outputs": [],
   "source": [
    "\n",
    "def forward_sim(n, T, alpha=0.9, gamma=0.1, beta=0.2, lmda=(1, 5)): \n",
    "    \"\"\"\n",
    "    Returns C, Z, X\n",
    "    \"\"\"\n",
    "    # Transition probability matrix for the HMM, parameterized by gamma and beta (Transition probabilities of switching between states C in {0, 1, 2}).\n",
    "    Gamma = np.array([[1-gamma, 0, gamma], [0, 1-gamma, gamma], [beta*0.5, beta*0.5, 1-beta]])\n",
    "    Z_prob = [[alpha, 1-alpha], [1-alpha, alpha], [0.5, 0.5]]\n",
    "    \n",
    "    # Initialize arrays\n",
    "    C = np.zeros(T, dtype=int)\n",
    "    Z = np.zeros((T, n), dtype=int)\n",
    "    X = np.zeros((T, n), dtype=int)\n",
    "\n",
    "    # Simulate the proces for the remaining t=1 to t=T timesteps\n",
    "    for t in range(T):\n",
    "        C[t] = random.choices([0, 1, 2], Gamma[2 if t == 0 else C[t-1]])[0] # First state is 0, every other picked random via the Gamma transition matrix\n",
    "        for i in range(0, n):\n",
    "            Z[t, i] = random.choices([0, 1], Z_prob[C[t]])[0] # Simulated hidden variables Z drawn from the distribution P(Z|C)\n",
    "            X[t, i] = np.random.poisson(lam = lmda[Z[t, i]]) # Simulated observed variables drawn at random from the poisson distribution.\n",
    "\n",
    "    return C, Z, X"
   ]
  },
  {
   "cell_type": "markdown",
   "metadata": {},
   "source": [
    "### Initialization"
   ]
  },
  {
   "cell_type": "code",
   "execution_count": null,
   "metadata": {},
   "outputs": [],
   "source": [
    "# The C_0 vector which would correspond to C[-1], but is redundant for the purposes of the C array, \n",
    "# which corresponds to a C for every T. In reality we have T+1 C variables and T x N Z and X variables.\n",
    "C_initial = np.array([0, 0, 1]) "
   ]
  },
  {
   "cell_type": "code",
   "execution_count": null,
   "metadata": {},
   "outputs": [],
   "source": [
    "# Function for P(X|Z)\n",
    "def PX_given_Z(x, z, lmda: tuple):\n",
    "    e = np.exp((-1)* lmda[z])\n",
    "    x_fact = math.factorial(x)\n",
    "    denom = np.exp(x*np.log(lmda[z])) if np.log(lmda[z]) != 0 else 0 # avoid overflow\n",
    "    factor = denom/x_fact\n",
    "    prob = e*factor\n",
    "    return prob"
   ]
  },
  {
   "cell_type": "code",
   "execution_count": null,
   "metadata": {},
   "outputs": [],
   "source": [
    "# Function for P(Z|C)\n",
    "def PZ_given_C(c, z, _alpha):\n",
    "    Z_prob = np.array([[_alpha, 1-_alpha], [1-_alpha, _alpha], [0.5, 0.5]])\n",
    "    return Z_prob[c, z]"
   ]
  },
  {
   "cell_type": "code",
   "execution_count": null,
   "metadata": {},
   "outputs": [],
   "source": [
    "def Z_inferred(X: ndarray, lmda: tuple) -> ndarray:\n",
    "    #For every observed X=x, we calculate the conditional probaility P(Z=0|X=x)\n",
    "    #We use Bayes theorem to do this. \n",
    "\n",
    "    T, n = X.shape\n",
    "\n",
    "    Z_inferred = np.zeros((T, n, 2), dtype=float) \n",
    "\n",
    "    Z_marg = (0.5, 0.5) #We assume that P(Z=0) = 0.5 due to the distribution of Z | C, and due to an assumption that P(C=1) = P(C=0)\n",
    "\n",
    "    #We start by calculating P(X) for every observed X and save them in a table. It doesn't make sense to compute P(X) for unobserved values of X\n",
    "    X_marg = np.zeros(np.max(X) + 1)\n",
    "    #We calculate P(X) using the formula: P(X=x) = P(X=x|Z=0)P(Z=0) + P(X=x|Z=1)P(Z=1)\n",
    "    #This works because Z ony takes values in {0,1}. We simply obtain the joint distribution P(X,Z) and sum out Z\n",
    "\n",
    "    for i in range(len(X_marg)):\n",
    "        X_marg[i] = PX_given_Z(i, 0, lmda)*Z_marg[0] + PX_given_Z(i, 1, lmda)*Z_marg[1] \n",
    "    #X_marg[i] holds the answer for the query P(X=i), Likewise Z_marg[i] holds the answer for the query p(Z=i)\n",
    "\n",
    "    #For every observed X=x, we calculate the conditional probaility P(Z=0|X=x)\n",
    "    #We use Bayes theorem to do this. \n",
    "    for i in range(Z_inferred.shape[0]): \n",
    "        for j in range(Z_inferred.shape[1]): \n",
    "            Z_inferred[i, j, 0] = (PX_given_Z(X[i, j], 0, lmda)*Z_marg[0])/(X_marg[X[i, j]])\n",
    "            Z_inferred[i, j, 1] = 1 - Z_inferred[i, j, 0] \n",
    "    return Z_inferred\n"
   ]
  },
  {
   "cell_type": "code",
   "execution_count": null,
   "metadata": {},
   "outputs": [],
   "source": [
    "# Helper function for Forward Algorithm\n",
    "def calc_emission_proba(X: ndarray, t: int, c: int, lmda: tuple, alpha: float) -> float:\n",
    "    \"\"\"\n",
    "    Calculates the emission probabilities at timestep t\n",
    "    The probabilities given by P(X_1,t...X_n,t|C_t)\n",
    "    P(Z|C) by function PZ_given_C(c, z)\n",
    "    P(X|Z) Poisson distribution given by PX_given_Z(x, z)\n",
    "    \"\"\"\n",
    "    n = X.shape[1]\n",
    "\n",
    "    emission_proba = 0.\n",
    "    for i in range(n):\n",
    "        emission_proba += np.log(PZ_given_C(c, 0, alpha)*PX_given_Z(X[t, i], 0, lmda) + PZ_given_C(c, 1, alpha)*PX_given_Z(X[t, i], 1, lmda))\n",
    "    emission_proba = np.exp(emission_proba)\n",
    "\n",
    "    return emission_proba"
   ]
  },
  {
   "cell_type": "code",
   "execution_count": null,
   "metadata": {},
   "outputs": [],
   "source": [
    "################## Forward Algorithm ##################\n",
    "def forward(X: ndarray, alpha: float, beta: float, gamma: float, lmda: tuple) -> ndarray:\n",
    "    \"\"\"\n",
    "    Iteratively updates the Alpha_t vectors in the Alpha matrix.\n",
    "    The Alpha matrix represents the P(C|X) distribution for each timestep T as an T x 3 matrix.\n",
    "    \"\"\"\n",
    "\n",
    "    T = X.shape[0]\n",
    "\n",
    "    # Initialization of the forward probabilities matrix, Alpha.\n",
    "    Alpha = np.zeros((T, 3), dtype=float)  # T x 3 matrix P(C|X)\n",
    "\n",
    "    # Transition probability matrix for the HMM, parameterized by gamma and beta (Transition probabilities of switching between states C in {0, 1, 2}).\n",
    "    Gamma = np.array([[1-gamma, 0, gamma], [0, 1-gamma, gamma], [beta*0.5, beta*0.5, 1-beta]])\n",
    "\n",
    "    # Buttom-up approach for updating beliefs alpha_t for forward algorithm on C.\n",
    "    for t in range(T):\n",
    "        for c in range(3):\n",
    "            c_prev = 0. # For calculating SUM_c_t-1 P(C_t|c_t-1)*Alpha_t-1(c_t-1)\n",
    "            for c_ in range(3):\n",
    "                c_prev += Gamma[c_, c]*(C_initial[c_] if t == 0 else Alpha[t-1, c_])\n",
    "            Alpha[t, c] = calc_emission_proba(X, t, c, lmda, alpha)*c_prev # Alpha_t = P(X_1,t,...,X_n,t|C_t) * SUM_c_t-1 P(C_t|c_t-1)*Alpha_t-1(c_t-1)\n",
    "        row_sum = np.sum(Alpha[t], axis=0) # Normalizing sum for each row\n",
    "        Alpha[t] = Alpha[t]/row_sum # Row-wise normalization for the CPD, normalizing the unnormalized Gibbs measure of each row.\n",
    "    return Alpha"
   ]
  },
  {
   "cell_type": "code",
   "execution_count": null,
   "metadata": {},
   "outputs": [],
   "source": [
    "def inferred_C_Z(X: ndarray, alpha: float, beta: float, gamma: float, lmda: tuple):\n",
    "    \"\"\"\n",
    "    Infers the CPD of P(C|Z) as an T x 3 Alpha matrix\n",
    "    And the CPD P(Z|X) as an T x n Z_infered matrix\n",
    "    \"\"\"\n",
    "    Alpha = forward(X, alpha, beta, gamma, lmda)\n",
    "    Z_inf = Z_inferred(X, lmda)\n",
    "    return Z_inf, Alpha"
   ]
  },
  {
   "cell_type": "markdown",
   "metadata": {},
   "source": [
    "### Most Likely C-s and Z-s from inferred probabilities"
   ]
  },
  {
   "cell_type": "code",
   "execution_count": null,
   "metadata": {},
   "outputs": [],
   "source": [
    "def cement_data(inferd_Z, inferd_C) -> tuple:\n",
    "    T, n, _ = inferd_Z.shape\n",
    "    Z = np.zeros((T,n),dtype=int)\n",
    "    C = np.zeros(T,dtype=int)\n",
    "\n",
    "    for t in range(T):\n",
    "        if C[t] == 0 and np.argmax(inferd_C[t-1]) == 1:\n",
    "            C[t] = 0 if inferd_C[t-1, 0] > inferd_C[t-1, 2] else 2 \n",
    "        elif C[t] == 1 and np.argmax(inferd_C[t-1]) == 0:\n",
    "            C[t] = 1 if inferd_C[t-1, 1] > inferd_C[t-1, 2] else 2\n",
    "        else:\n",
    "            C[t] = np.argmax(inferd_C[t])\n",
    "        for i in range(n):\n",
    "            Z[t, i] = np.argmax(inferd_Z[t, i]) \n",
    "    \n",
    "    return (Z, C) #liste med 2 entries, Z og C"
   ]
  },
  {
   "cell_type": "markdown",
   "metadata": {},
   "source": [
    "### Learn Parameters function (for Hard EM)"
   ]
  },
  {
   "cell_type": "code",
   "execution_count": null,
   "metadata": {},
   "outputs": [],
   "source": [
    "\n",
    "def learn_param(X: ndarray, Z_hat: ndarray, C_hat: ndarray, alpha: float):\n",
    "    \"\"\" \n",
    "    learn_param updates parameters from new infered Z and C\n",
    "    Input: Array Z with shape [n,T], array C with shape [T,]\n",
    "    Returns: alpha, beta, gamma, lambda0, lambda1\n",
    "    \"\"\"\n",
    "    T, n = Z_hat.shape\n",
    "    \n",
    "    _beta    = 0.\n",
    "    _gamma   = 0.\n",
    "    _Z0 = (C_hat == 0).sum() * n\n",
    "    _Z1 = (C_hat == 1).sum() * n\n",
    "    _W = (C_hat[:T-1] == 2).sum() # 99 transsitions\n",
    "\n",
    "    _lambda0 = X[Z_hat == 0].mean()  # Relative frequence of Xs where corresponding Z_hat = 0\n",
    "    _lambda1 = X[Z_hat == 1].mean()  # Relative frequence of Xs where corresponding Z_hat = 1\n",
    "    \n",
    "    _alpha = ((Z_hat[C_hat == 0] == 0).sum() + (Z_hat[C_hat == 1] == 1).sum())/(_Z0 + _Z1 )\n",
    "    \n",
    "    for t in range(T-1):\n",
    "        _beta  += 1 if (C_hat[t] > C_hat[t+1]) else 0\n",
    "        _gamma += 1 if (C_hat[t] < C_hat[t+1]) else 0\n",
    "    \n",
    "    _beta = 1/(_W) * _beta\n",
    "    _gamma = 1/(T-_W) * _gamma\n",
    "    \n",
    "    return _alpha, _beta, _gamma, (_lambda0, _lambda1)"
   ]
  },
  {
   "cell_type": "markdown",
   "metadata": {},
   "source": [
    "## Hard EM Algorithm"
   ]
  },
  {
   "cell_type": "code",
   "execution_count": null,
   "metadata": {},
   "outputs": [],
   "source": [
    "def hard_EM_algo(X: ndarray, alpha: float, beta: float, gamma: float, lmda: tuple, N_iter=10):\n",
    "    _alpha = alpha\n",
    "    _beta = beta\n",
    "    _gamma = gamma\n",
    "    _lmda = lmda\n",
    "    for i in range(N_iter):\n",
    "        Z_hat, C_hat = inferred_C_Z(X, _alpha, _beta, _gamma, _lmda)\n",
    "        Z_hat, C_hat = cement_data(Z_hat, C_hat)\n",
    "        _alpha, _beta, _gamma, _lmda = learn_param(X, Z_hat, C_hat, _alpha)\n",
    "    params: list = [_alpha, _beta, _gamma, _lmda[0], _lmda[1]]\n",
    "\n",
    "    return params"
   ]
  },
  {
   "cell_type": "markdown",
   "metadata": {},
   "source": [
    "### Simulate 10 X-s and run hard EM on each with \"heuristically\" infered inital parameters"
   ]
  },
  {
   "cell_type": "code",
   "execution_count": null,
   "metadata": {},
   "outputs": [],
   "source": [
    "all_params = []\n",
    "for i in range(10):\n",
    "    _, _, X = forward_sim(10, 100)\n",
    "    i_alpha, i_beta, i_gamma, i_lmda0, i_lmda1 = random.uniform(0.6, 0.99), random.uniform(0.1, 0.3), random.uniform(0.05, 0.195), random.uniform(0.5, 2.), random.uniform(2., 8.)\n",
    "    all_params.append(hard_EM_algo(X, i_alpha, i_beta, i_gamma, (i_lmda0, i_lmda1), N_iter=10))\n"
   ]
  },
  {
   "cell_type": "code",
   "execution_count": null,
   "metadata": {},
   "outputs": [],
   "source": [
    "mean_arr = np.array(all_params).mean(axis=0)\n",
    "np.array(all_params)\n",
    "mean_arr"
   ]
  },
  {
   "cell_type": "code",
   "execution_count": null,
   "metadata": {},
   "outputs": [],
   "source": [
    "correct_params = np.array([0.9, 0.2, 0.1, 1., 5.])\n",
    "deviance_in_percentage = np.abs(correct_params - mean_arr)/correct_params\n",
    "print(\"Reported deviance in percentage of each param alpha, beta, gamma, lambda0, lambda1:\\n\", deviance_in_percentage)"
   ]
  },
  {
   "cell_type": "markdown",
   "metadata": {},
   "source": [
    "### Running Hard EM on real data"
   ]
  },
  {
   "cell_type": "code",
   "execution_count": null,
   "metadata": {},
   "outputs": [],
   "source": [
    "data_files = [\"proj_HMM/Ex_1.csv\", \"proj_HMM/Ex_2.csv\", \"proj_HMM/Ex_3.csv\", \"proj_HMM/Ex_4.csv\", \"proj_HMM/Ex_5.csv\", \"proj_HMM/Ex_6.csv\", \"proj_HMM/Ex_7.csv\", \"proj_HMM/Ex_8.csv\", \"proj_HMM/Ex_9.csv\", \"proj_HMM/Ex_10.csv\"]\n",
    "\n",
    "all_params = []\n",
    "for i in range(10):\n",
    "    data_ = np.genfromtxt(data_files[i % len(data_files)], delimiter=\",\", skip_header=True, dtype=int)\n",
    "    X = data_[:, 1:]\n",
    "    i_alpha, i_beta, i_gamma, i_lmda0, i_lmda1 = random.uniform(0.6, 0.99), random.uniform(0.1, 0.25), random.uniform(0.05, 0.195), random.uniform(0.5, 2.), random.uniform(2., 8.)\n",
    "    all_params.append(hard_EM_algo(X, i_alpha, i_beta, i_gamma, (i_lmda0, i_lmda1), N_iter=40))"
   ]
  },
  {
   "cell_type": "code",
   "execution_count": null,
   "metadata": {},
   "outputs": [],
   "source": [
    "data_mean_arr = np.array(all_params).mean(axis=0)\n",
    "np.array(all_params)\n",
    "print(\"Estimated parameters after 40 iterations of EM on the 10 experiments (data):\\n\", data_mean_arr)"
   ]
  },
  {
   "cell_type": "markdown",
   "metadata": {},
   "source": [
    "**Visualize inference on real data**"
   ]
  },
  {
   "cell_type": "code",
   "execution_count": null,
   "metadata": {},
   "outputs": [],
   "source": [
    "def switch_1_and_2(arr):\n",
    "    for i in range(len(arr)):\n",
    "        if arr[i] == 1:\n",
    "            arr[i] = 2\n",
    "        elif arr[i] == 2:\n",
    "            arr[i] = 1\n",
    "    return arr"
   ]
  },
  {
   "cell_type": "code",
   "execution_count": null,
   "metadata": {},
   "outputs": [],
   "source": [
    "data_files = [\"proj_HMM/Ex_1.csv\", \"proj_HMM/Ex_2.csv\", \"proj_HMM/Ex_3.csv\", \"proj_HMM/Ex_4.csv\", \"proj_HMM/Ex_5.csv\", \"proj_HMM/Ex_6.csv\", \"proj_HMM/Ex_7.csv\", \"proj_HMM/Ex_8.csv\", \"proj_HMM/Ex_9.csv\", \"proj_HMM/Ex_10.csv\"]\n",
    "\n",
    "# Create a figure and axis array to hold all subplots\n",
    "fig, axs = plt.subplots(10, 1, figsize=(16, 22), sharex=False)\n",
    "\n",
    "for i in range(10):\n",
    "    # Load data for the current iteration\n",
    "    data_ = np.genfromtxt(data_files[i % len(data_files)], delimiter=\",\", skip_header=True, dtype=int)\n",
    "    data = data_[:, 1:]\n",
    "    T = data.shape[0]  # Time period\n",
    "    n = data.shape[1]   # Number of neurons\n",
    "\n",
    "    # Assuming the rest of your plotting code remains the same\n",
    "    Z_, C_ = inferred_C_Z(data, data_mean_arr[0], data_mean_arr[1], data_mean_arr[2], (data_mean_arr[3], data_mean_arr[4]))\n",
    "\n",
    "    Z, C = cement_data(Z_, C_)\n",
    "    C = switch_1_and_2(C)\n",
    "    avg_Z = np.mean(Z,axis=1).reshape(1,-1)[0]\n",
    "    avg_X = np.mean(data,axis=1).reshape(1,-1)[0]\n",
    "\n",
    "    ax1 = axs[i]\n",
    "    ax1.plot(range(1,T+1), avg_X, color=\"black\", zorder=3)\n",
    "    ax1.set_yticks([0,1,2, 3, 4, 5, 6, 7])\n",
    "    ax1.set_ylabel('Mean observed X', color=\"black\",  fontsize=13)\n",
    "    ax1.tick_params(axis='y', labelcolor=\"black\")\n",
    "\n",
    "    ax2 = ax1.twinx()\n",
    "    ax2.plot(range(1,T+1), avg_Z, color=\"darkgreen\", zorder=2)\n",
    "    ax2.set_yticks([0,0.5,1])\n",
    "    ax2.set_ylabel('Mean predicted Z', color=\"darkgreen\", fontsize=13)\n",
    "    ax2.tick_params(axis='y', labelcolor=\"darkgreen\")\n",
    "\n",
    "    ax3 = ax1.twinx()\n",
    "    ax3.spines['right'].set_position(('outward', 60))\n",
    "    ax3.set_ylabel('Predicted C', color=\"purple\", fontsize=13)\n",
    "    for c in range(len(C)):\n",
    "        if C[c] == 0:\n",
    "            color = \"darkred\"\n",
    "        elif C[c] == 1:\n",
    "            color = \"purple\"\n",
    "        else:\n",
    "            color = \"blue\"\n",
    "        ax3.plot(c, C[c], color=color, marker=\"o\", zorder=2)\n",
    "\n",
    "    for j in range(len(C) - 1):\n",
    "        if C[j] != C[j + 1]:\n",
    "            color = \"black\"\n",
    "            if C[j] == 0:\n",
    "                color = \"darkred\"\n",
    "            elif C[j] == 1:\n",
    "                color = \"purple\"\n",
    "            else:\n",
    "                color = \"blue\"\n",
    "            ax3.plot([j, j + 1], [C[j], C[j + 1]], color=color, zorder=1)\n",
    "        else: \n",
    "            if C[j] == 0:\n",
    "                color = \"darkred\"\n",
    "            elif C[j] == 1:\n",
    "                color = \"purple\"\n",
    "            else:\n",
    "                color = \"blue\"\n",
    "            ax3.plot([j, j + 1], [C[j], C[j + 1]], color=color, zorder=1)\n",
    "\n",
    "    ax3.tick_params(axis='y', labelcolor=\"purple\")\n",
    "    ax3.set_yticks([0,1,2])\n",
    "    ax3.set_yticklabels([\"Serial 0\", \"Parallel\", \"Serial 1\"], fontsize = 12)\n",
    "    tick_labels = ax3.get_yticklabels()\n",
    "    tick_labels[0].set_color('darkred')\n",
    "    tick_labels[1].set_color('purple')\n",
    "    tick_labels[2].set_color('blue')\n",
    "    plt.title('Experiment ' + str(i+1), fontsize = 14)\n",
    "    plt.grid(True)\n",
    "\n",
    "# Adjust layout to prevent overlap of labels\n",
    "plt.tight_layout()\n",
    "\n",
    "plt.show()\n"
   ]
  },
  {
   "cell_type": "markdown",
   "metadata": {},
   "source": []
  }
 ],
 "metadata": {
  "kernelspec": {
   "display_name": "base",
   "language": "python",
   "name": "python3"
  },
  "language_info": {
   "codemirror_mode": {
    "name": "ipython",
    "version": 3
   },
   "file_extension": ".py",
   "mimetype": "text/x-python",
   "name": "python",
   "nbconvert_exporter": "python",
   "pygments_lexer": "ipython3",
   "version": "3.10.9"
  }
 },
 "nbformat": 4,
 "nbformat_minor": 2
}
