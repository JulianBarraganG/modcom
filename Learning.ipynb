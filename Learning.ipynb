{
 "cells": [
  {
   "cell_type": "code",
   "execution_count": null,
   "metadata": {},
   "outputs": [],
   "source": [
    "import numpy as np\n",
    "import math\n",
    "import random\n",
    "from sklearn.linear_model import LogisticRegression\n",
    "from sklearn.model_selection import train_test_split\n",
    "import matplotlib.pyplot as plt\n",
    "import pandas as p"
   ]
  },
  {
   "cell_type": "markdown",
   "metadata": {},
   "source": [
    "# Part III\n",
    "### Learning"
   ]
  },
  {
   "cell_type": "markdown",
   "metadata": {},
   "source": [
    "Vi finder først en måde/metode til at estimere parametrene fra noget observeret data. Dette bruger vi også senere til EM algoritmen. Vi omskriver forward_sim uden faste variabel deklerationer. "
   ]
  },
  {
   "cell_type": "code",
   "execution_count": null,
   "metadata": {},
   "outputs": [],
   "source": [
    "def forward_sim(n, T, alpha, gamma, beta, lmda): \n",
    "    # Pre-defined (transition) probabilities\n",
    "    Gamma = [[1-gamma, 0, gamma], [0, 1-gamma, gamma], [beta*0.5, beta*0.5, 1-beta]]\n",
    "    \n",
    "    # Initialize arrays\n",
    "    C = np.zeros(T, dtype=int)\n",
    "    Z = np.zeros((T, n), dtype=int)\n",
    "    X = np.zeros((T, n), dtype=int)\n",
    "    \n",
    "    Z_prob = [[alpha, 1-alpha], [1-alpha, alpha], [0.5, 0.5]]\n",
    "\n",
    "    # Initial state\n",
    "    C[0] = 2\n",
    "\n",
    "    # Initialize X and Z for t=0\n",
    "    for i in range(0, n):\n",
    "            Z[0, i] = random.choices([0, 1], Z_prob[C[0]])[0]\n",
    "            X[0, i] = np.random.poisson(lam = lmda[Z[0, i]])\n",
    "\n",
    "    # Simulate the proces for the remaining t=1 to t=T timesteps\n",
    "    for t in range(1, T):\n",
    "        C[t] = random.choices([0, 1, 2], Gamma[C[t-1]])[0]\n",
    "        for i in range(0, n):\n",
    "            Z[t, i] = random.choices([0, 1], Z_prob[C[t]])[0]\n",
    "            X[t, i] = np.random.poisson(lam = lmda[Z[t, i]])\n",
    "\n",
    "    return C, Z, X"
   ]
  },
  {
   "cell_type": "markdown",
   "metadata": {},
   "source": [
    "Efter at have en måde til at estimere nogen parametre, kan vi antage at det er de rigtige parametre, og bruge dette til at infer nye c og z. "
   ]
  },
  {
   "cell_type": "markdown",
   "metadata": {},
   "source": [
    "Initialization"
   ]
  },
  {
   "cell_type": "code",
   "execution_count": null,
   "metadata": {},
   "outputs": [],
   "source": [
    "alpha=0.9 # Probability parameter alpha in (0.5, 1) for P(Z|C)\n",
    "beta=0.2  # Transition probability parameter for moving to and from parallel processing\n",
    "gamma=0.1  # Transition probability parameter between states\n",
    "lmda=(1, 5)  # Rate parameters for the Poisson distribution modeling spike counts under each attention state.\n",
    "Gamma = np.array([[1-gamma, 0, gamma], [0, 1-gamma, gamma], [beta*0.5, beta*0.5, 1-beta]])\n",
    "T = 100  # Time period\n",
    "n = 10   # Number of neurons\n",
    "\n",
    "C, Z, X = forward_sim(n, T,alpha=0.9, gamma=0.1, beta=0.2, lmda=(1, 5))"
   ]
  },
  {
   "cell_type": "code",
   "execution_count": null,
   "metadata": {},
   "outputs": [],
   "source": [
    "def PX_given_Z(x, z, lmda=(1, 5)):\n",
    "    return (np.exp(-1 * lmda[z]) * ((lmda[z]**x)/math.factorial(x)))\n",
    "\n",
    "Z_marg = (1-alpha, alpha) #We assume that P(Z=0) = 0.5 due to the distribution of Z | C, and due to an assumption that P(C=1) = P(C=0)\n",
    "\n",
    "#We start by calculating P(X) for every observed X and save them in a table. It doesn't make sense to compute P(X) for unobserved values of X\n",
    "X_marg = np.zeros(np.max(X)+1)\n",
    "#We calculate P(X) using the formula: P(X=x) = P(X=x|Z=0)P(Z=0) + P(X=x|Z=1)P(Z=1)\n",
    "#This works because Z ony takes values in {0,1}. We simply obtain the joint distribution P(X,Z) and sum out Z\n",
    "for i in range(len(X_marg)):\n",
    "    X_marg[i] = PX_given_Z(i, 0)*Z_marg[0] + PX_given_Z(i, 1)*Z_marg[1] \n",
    "#X_marg[i] holds the answer for the query P(X=i), Likewise Z_marg[i] holds the answer for the query p(Z=i)\n",
    "\n",
    "\n",
    "#For every observed X=x, we calculate the conditional probaility P(Z=0|X=x)\n",
    "#We use Bayes theorem to do this. \n",
    "Z0_cond = np.zeros_like(X, dtype=float) \n",
    "\n",
    "for i in range(Z0_cond.shape[0]): \n",
    "    for j in range(Z0_cond.shape[1]): \n",
    "        Z0_cond[i,j] = (PX_given_Z(X[i,j], 0)*Z_marg[0])/(X_marg[X[i,j]]) #P(Z|X)\n",
    "\n",
    "def PZ_given_C(c, z, alpha=0.9):\n",
    "    Z_prob = np.array([[alpha, 1-alpha], [1-alpha, alpha], [0.5, 0.5]])\n",
    "    return Z_prob[c, z]\n",
    "\n",
    "\n",
    "################## Forward Algorithm ##################\n",
    "def calc_emission_proba(t: int, c: int) -> float:\n",
    "    \"\"\"\n",
    "    Calculates the emission probabilities at timestep t\n",
    "    The probabilities given by P(X_1,t...X_n,t|C_t)\n",
    "    P(Z|C) by function PZ_given_C(c, z)\n",
    "    P(X|Z) Poisson distribution given by PX_given_Z(x, z)\n",
    "    \"\"\"\n",
    "    emission_proba = 0.\n",
    "    for i in range(n):\n",
    "        emission_proba += np.log(PZ_given_C(c, 0)*PX_given_Z(X[t, i], 0) + PZ_given_C(c, 1)*PX_given_Z(X[t, i], 1))\n",
    "    emission_proba = np.exp(emission_proba)\n",
    "    return emission_proba\n",
    "\n",
    "def forward():\n",
    "    \"\"\"\n",
    "    Iteratively updates the Alpha_t vectors in the Alpha matrix.\n",
    "    The Alpha matrix represents the P(C|X) distribution for each timestep T as an T x 3 matrix.\n",
    "    \"\"\"\n",
    "    # Initialization of the forward probabilities matrix, Alpha.\n",
    "    Alpha = np.zeros((T, 3), dtype=float)  # T x 3 matrix P(C|X)\n",
    "    Alpha[0, 2] = 1.  # Assumed state C_0=2 becomes our Alpha_0 vector (Alpha_0=[0, 0, 1])\n",
    "    for t in range(1, T):\n",
    "        for c in range(3):\n",
    "            c_prev = 0. # For calculating SUM_c_t-1 P(C_t|c_t-1)*Alpha_t-1(c_t-1)\n",
    "            for c_ in range(3):\n",
    "                c_prev += Gamma[c_, c]*Alpha[t-1, c_]\n",
    "            Alpha[t, c] = calc_emission_proba(t, c)*c_prev # Alpha_t = P(X_1,t,...,X_n,t|C_t) * SUM_c_t-1 P(C_t|c_t-1)*Alpha_t-1(c_t-1)\n",
    "        row_sum = np.sum(Alpha[t], axis=0) # Normalizing sum for each row\n",
    "        Alpha[t] = Alpha[t]/row_sum # Row-wise normalization for the CPD, normalizing the unnormalized Gibbs measure of each row.\n",
    "    return Alpha"
   ]
  },
  {
   "cell_type": "code",
   "execution_count": null,
   "metadata": {},
   "outputs": [],
   "source": [
    "Alpha = forward() # Store P(C|X) in an T x 3 matrix.\n",
    "Alpha[30:50] # P(C|X) of the 19 timesteps t=30 to t=49\n",
    "C[30:50] # Simulated values of the hidden layer C from t=30 to t=49"
   ]
  },
  {
   "cell_type": "markdown",
   "metadata": {},
   "source": [
    "Prøver at lave en generel metode til at cementere værdierne til at være ny data."
   ]
  },
  {
   "cell_type": "code",
   "execution_count": null,
   "metadata": {},
   "outputs": [],
   "source": [
    "T = 100  # Time period\n",
    "n = 10   # Number of neurons\n",
    "\n"
   ]
  },
  {
   "cell_type": "code",
   "execution_count": null,
   "metadata": {},
   "outputs": [],
   "source": [
    "print(Z.shape)"
   ]
  },
  {
   "cell_type": "code",
   "execution_count": null,
   "metadata": {},
   "outputs": [],
   "source": [
    "def cement_data(inferd_Z, inferd_C):\n",
    "    Z = np.zeros((T,n),dtype=int)\n",
    "    C = np.zeros(T,dtype=int)\n",
    "    print(inferd_Z[0][0])\n",
    "    for t in range(T):\n",
    "        for i in range(n):\n",
    "            Z[t,i] = np.argmax(inferd_Z[t][i]) #giver det index hvor der er størst værdi i vores confidence matrix\n",
    "    \n",
    "    for t in range(T):\n",
    "        C[t] = np.argmax(inferd_C[t])\n",
    "            \n",
    "    return Z, C\n",
    "\n",
    "print(Z0_cond.shape)\n",
    "print(Alpha.shape)\n",
    "#cement_data(Z0_cond,Alpha)[1]"
   ]
  }
 ],
 "metadata": {
  "kernelspec": {
   "display_name": "base",
   "language": "python",
   "name": "python3"
  },
  "language_info": {
   "codemirror_mode": {
    "name": "ipython",
    "version": 3
   },
   "file_extension": ".py",
   "mimetype": "text/x-python",
   "name": "python",
   "nbconvert_exporter": "python",
   "pygments_lexer": "ipython3",
   "version": "3.10.9"
  }
 },
 "nbformat": 4,
 "nbformat_minor": 2
}
